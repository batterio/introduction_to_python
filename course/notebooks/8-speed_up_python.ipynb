{
 "cells": [
  {
   "cell_type": "markdown",
   "id": "fa01e556-a664-432d-bac0-f4e64e53605c",
   "metadata": {},
   "source": [
    "# Introduction to Coding"
   ]
  },
  {
   "cell_type": "markdown",
   "id": "871af221-c0c4-404d-b540-361154da36ca",
   "metadata": {},
   "source": [
    "### Magic functions  \n",
    "IPython has a set of predefined `magic functions` that you can call with a command line style syntax. There are two kinds of magics, line-oriented and cell-oriented:\n",
    "\n",
    "* **Line magics** are prefixed with the `%` character and work much like OS command-line calls: they get as an argument the rest of the line, where arguments are passed without parentheses or quotes.\n",
    "\n",
    "* **Cell magics** are prefixed with a double `%%`, and they are functions that get as an argument not only the rest of the line, but also the lines below it in a separate argument."
   ]
  },
  {
   "cell_type": "markdown",
   "id": "670ba74a-4082-4661-b51f-b27a67d41896",
   "metadata": {},
   "source": [
    "These are the available **magic functions**:"
   ]
  },
  {
   "cell_type": "code",
   "execution_count": null,
   "id": "29d3862a-d232-4917-a71d-e2b61c43c948",
   "metadata": {
    "tags": []
   },
   "outputs": [],
   "source": [
    "%lsmagic"
   ]
  },
  {
   "cell_type": "markdown",
   "id": "7ddb1845-71e3-4097-86dc-e33e709e25b3",
   "metadata": {},
   "source": [
    "### How to measure the execution time"
   ]
  },
  {
   "cell_type": "markdown",
   "id": "1878a70b-427a-4b4a-acc0-c7b19644fa82",
   "metadata": {},
   "source": [
    "#### With **line magic**:"
   ]
  },
  {
   "cell_type": "code",
   "execution_count": null,
   "id": "e782d362-fb19-4053-bff9-35a61662b352",
   "metadata": {
    "tags": []
   },
   "outputs": [],
   "source": [
    "def make_squares(n):\n",
    "    \"\"\"Calculate the square of the first 'n' numbers\"\"\"\n",
    "    \n",
    "    results = []\n",
    "    for i in range(n):\n",
    "        results.append(i ** 2)"
   ]
  },
  {
   "cell_type": "code",
   "execution_count": null,
   "id": "a1b89ef0-bac5-4fc4-8687-8499583fa3de",
   "metadata": {
    "tags": []
   },
   "outputs": [],
   "source": [
    "# Calculate the square of the first 1000 numbers\n",
    "%timeit make_squares(10 ** 3)"
   ]
  },
  {
   "cell_type": "markdown",
   "id": "768e9c93-76ac-4def-b84f-18d9affc820f",
   "metadata": {},
   "source": [
    "#### With **cell magic**:"
   ]
  },
  {
   "cell_type": "code",
   "execution_count": null,
   "id": "c7be627e-28c5-4cc9-bed8-ec8c42bf871c",
   "metadata": {
    "tags": []
   },
   "outputs": [],
   "source": [
    "%%timeit -n 10000 -r 7\n",
    "\n",
    "make_squares(10 ** 3)"
   ]
  },
  {
   "cell_type": "markdown",
   "id": "e9e2dcd2-b455-449b-9fa8-7324fe5a59d6",
   "metadata": {},
   "source": [
    "### Speed up the execution with Cython"
   ]
  },
  {
   "cell_type": "markdown",
   "id": "6cf5197e-c3f6-42fa-9a49-8950fd9bed54",
   "metadata": {},
   "source": [
    "In order to use `Cython` compiler it has to be installed:\n",
    "* pip install -U Cython\n",
    "* conda install -c anaconda cython"
   ]
  },
  {
   "cell_type": "code",
   "execution_count": null,
   "id": "f0b85806-fa60-44f7-a00b-e6f19bba217b",
   "metadata": {
    "tags": []
   },
   "outputs": [],
   "source": [
    "# load Cython\n",
    "%load_ext Cython"
   ]
  },
  {
   "cell_type": "markdown",
   "id": "9a596baa-efdd-4d9a-864c-76e555607797",
   "metadata": {},
   "source": [
    "This is a function that calculate the square of a number (run with `CPython`)"
   ]
  },
  {
   "cell_type": "code",
   "execution_count": null,
   "id": "301b5e05-943e-47ed-a22a-a61b0a5792ce",
   "metadata": {
    "tags": []
   },
   "outputs": [],
   "source": [
    "def make_square_1(x):\n",
    "    return x * x"
   ]
  },
  {
   "cell_type": "markdown",
   "id": "f1217089-19ad-4bbe-85a6-5c3e463bd02f",
   "metadata": {},
   "source": [
    "This is the same function as above but run with `Cython`"
   ]
  },
  {
   "cell_type": "code",
   "execution_count": null,
   "id": "f0f6891d-7136-4db6-806a-00dd163973a0",
   "metadata": {
    "tags": []
   },
   "outputs": [],
   "source": [
    "%%cython\n",
    "\n",
    "def make_square_2(x):\n",
    "    return x * x"
   ]
  },
  {
   "cell_type": "markdown",
   "id": "c9f3ae22-43d3-4d88-8747-8876e689307a",
   "metadata": {},
   "source": [
    "This is the same function as above but optimized (`Cython`)"
   ]
  },
  {
   "cell_type": "code",
   "execution_count": null,
   "id": "aa83a41f-5313-4967-b58c-786fffb3f5b1",
   "metadata": {
    "tags": []
   },
   "outputs": [],
   "source": [
    "%%cython\n",
    "\n",
    "def make_square_3(int x):\n",
    "    return x * x"
   ]
  },
  {
   "cell_type": "markdown",
   "id": "e5e1c5cd-1481-4b87-873f-267ca38b55de",
   "metadata": {
    "tags": []
   },
   "source": [
    "Now let's check the execution times:"
   ]
  },
  {
   "cell_type": "code",
   "execution_count": null,
   "id": "1e7d57cf-2ac2-496b-84c5-6e31e133e9c9",
   "metadata": {
    "tags": []
   },
   "outputs": [],
   "source": [
    "%timeit -r 5 -n 10_000_000 make_square_1(10**6)  # 1.000.000"
   ]
  },
  {
   "cell_type": "code",
   "execution_count": null,
   "id": "faaca5c7-28c9-4ed3-a927-e1ba10bc1ee4",
   "metadata": {
    "tags": []
   },
   "outputs": [],
   "source": [
    "%timeit -r 5 -n 10_000_000 make_square_2(10**6)  # 1.000.000"
   ]
  },
  {
   "cell_type": "code",
   "execution_count": null,
   "id": "ebc6cc89-9477-4a57-b42c-0e3bbc2b8146",
   "metadata": {
    "tags": []
   },
   "outputs": [],
   "source": [
    "%timeit -r 5 -n 10_000_000 make_square_3(10**6)  # 1.000.000"
   ]
  },
  {
   "cell_type": "markdown",
   "id": "2f4dd2c5-5088-47e7-8376-1183b96403d2",
   "metadata": {},
   "source": [
    "### Speed up the execution with concurrency"
   ]
  },
  {
   "cell_type": "markdown",
   "id": "6e2b9383-958f-4dd0-b543-c18343de482e",
   "metadata": {},
   "source": [
    "#### Calculate the nucleotides abundance of the first 10 human chromosomes\n",
    "The sequences of the chromosomes have been downloaded from [Ensembl release 113](https://ftp.ensembl.org/pub/release-113/fasta/homo_sapiens/dna/)"
   ]
  },
  {
   "cell_type": "code",
   "execution_count": null,
   "id": "ab4e1be7-18d9-4fdf-adb3-bf02be033a8a",
   "metadata": {
    "tags": []
   },
   "outputs": [],
   "source": [
    "# We import the required modules\n",
    "import gzip\n",
    "from multiprocessing import Pool\n",
    "import matplotlib.pyplot as plt"
   ]
  },
  {
   "cell_type": "markdown",
   "id": "e24fb235-9117-4458-ae15-64fcfd0b4d89",
   "metadata": {},
   "source": [
    "#### Functions we are going to use"
   ]
  },
  {
   "cell_type": "code",
   "execution_count": null,
   "id": "9daca614-7125-480b-81ec-b3f0cb422a53",
   "metadata": {},
   "outputs": [],
   "source": [
    "def parse_fasta_file(chromosome):\n",
    "    bases = {'A': 0, 'C': 0, 'G': 0, 'T': 0, 'N': 0}\n",
    "    fasta_file = f'../data/Homo_sapiens.GRCh38.dna.chromosome.{chromosome}.fa.gz'\n",
    "    \n",
    "    with gzip.open(fasta_file, 'rb') as fd:\n",
    "        for line in fd:\n",
    "            line = line.decode().strip().upper()\n",
    "            if line.startswith('>'):\n",
    "                continue\n",
    "            for base in 'ACTGN':\n",
    "                bases[base] += line.count(base)\n",
    "\n",
    "    percentages = create_percentages(bases) \n",
    "    return chromosome, percentages\n",
    "\n",
    "\n",
    "def create_percentages(bases):\n",
    "    length = sum(bases.values())\n",
    "    percentages = dict()\n",
    "    for base, value in bases.items():\n",
    "        percentages[base] = round(value / length * 100, 2)\n",
    "    return percentages\n",
    "\n",
    "\n",
    "def plot_nucleotides(results, chromosomes=[1, 2, 3, 4, 5, 6, 7, 8, 9, 10]):\n",
    "    fig = plt.figure(figsize=(5, 3))\n",
    "    ax = plt.subplot2grid((1, 1), (0, 0))\n",
    "\n",
    "    for base in 'ATCG':\n",
    "        y = [results[chrom][base] for chrom in chromosomes]\n",
    "        ax.plot(chromosomes, y, 'o-', linewidth=2, alpha=0.5, label=base)\n",
    "        \n",
    "    ax.set_xticks(list(results.keys()))\n",
    "    ax.set_xlabel('Chromosome')\n",
    "    ax.set_ylabel('Nucleotides (%)')\n",
    "    \n",
    "    ax.legend(loc=[1.02, 0])\n",
    "    plt.tight_layout()\n",
    "    plt.show()"
   ]
  },
  {
   "cell_type": "code",
   "execution_count": null,
   "id": "31a48be3-ed2c-42a3-8f94-365f940da7bd",
   "metadata": {},
   "outputs": [],
   "source": [
    "# We analyze the first 10 chromosomes\n",
    "chromosomes = [1, 2, 3, 4, 5, 6, 7, 8, 9, 10]"
   ]
  },
  {
   "cell_type": "markdown",
   "id": "28b12fb0-9c35-42d1-a4a7-0d34c6bcdfc7",
   "metadata": {},
   "source": [
    "#### Single core processing"
   ]
  },
  {
   "cell_type": "code",
   "execution_count": null,
   "id": "735d302f-7772-4003-a278-fd8b3ea689ee",
   "metadata": {
    "tags": []
   },
   "outputs": [],
   "source": [
    "%%time\n",
    "\n",
    "results_singlecore = {}\n",
    "\n",
    "for chromosome in chromosomes:\n",
    "    chrom, percentages = parse_fasta_file(chromosome)\n",
    "    results_singlecore[chrom] = percentages\n",
    "    print(f'Chromosome {chrom}: {percentages}')"
   ]
  },
  {
   "cell_type": "code",
   "execution_count": null,
   "id": "b04f8480-949e-4f25-9323-092c0c10530f",
   "metadata": {},
   "outputs": [],
   "source": [
    "# Plot the results\n",
    "plot_nucleotides(results_singlecore)"
   ]
  },
  {
   "cell_type": "markdown",
   "id": "03adfff6-40a0-4ee5-ba45-23c16407dead",
   "metadata": {},
   "source": [
    "#### Multicore processing"
   ]
  },
  {
   "cell_type": "code",
   "execution_count": null,
   "id": "fc8846dd-21d6-407c-8973-1027c3fc4108",
   "metadata": {},
   "outputs": [],
   "source": [
    "%%time\n",
    "\n",
    "NUM_CPU = 10\n",
    "results_multicore = {}\n",
    "\n",
    "with Pool(NUM_CPU) as pool:\n",
    "    for chrom, percentages in pool.imap_unordered(parse_fasta_file, chromosomes):\n",
    "        results_multicore[chrom] = percentages\n",
    "        print(f'Chromosome {chrom}: {percentages}')    "
   ]
  },
  {
   "cell_type": "code",
   "execution_count": null,
   "id": "9e4ae4b9-d266-4102-a848-f51fd7a25e06",
   "metadata": {},
   "outputs": [],
   "source": [
    "# Plot the results\n",
    "plot_nucleotides(results_multicore)"
   ]
  },
  {
   "cell_type": "markdown",
   "id": "ebf4f1cb-e7cc-4cf8-832e-239aa5e32afc",
   "metadata": {},
   "source": [
    "#### Checks if the results are the same"
   ]
  },
  {
   "cell_type": "code",
   "execution_count": null,
   "id": "5b36effd-aaed-4a97-885d-9d53b4c66fe8",
   "metadata": {},
   "outputs": [],
   "source": [
    "results_multicore == results_singlecore"
   ]
  }
 ],
 "metadata": {
  "kernelspec": {
   "display_name": "Python 3 (ipykernel)",
   "language": "python",
   "name": "python3"
  },
  "language_info": {
   "codemirror_mode": {
    "name": "ipython",
    "version": 3
   },
   "file_extension": ".py",
   "mimetype": "text/x-python",
   "name": "python",
   "nbconvert_exporter": "python",
   "pygments_lexer": "ipython3",
   "version": "3.12.9"
  }
 },
 "nbformat": 4,
 "nbformat_minor": 5
}
