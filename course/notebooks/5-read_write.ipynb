{
 "cells": [
  {
   "cell_type": "markdown",
   "metadata": {},
   "source": [
    "# Introduction to Coding"
   ]
  },
  {
   "cell_type": "markdown",
   "metadata": {},
   "source": [
    "### Reading and writing files"
   ]
  },
  {
   "cell_type": "markdown",
   "metadata": {},
   "source": [
    "#### Different ways of opening a file"
   ]
  },
  {
   "cell_type": "markdown",
   "metadata": {},
   "source": [
    "Python access files using the command `open`. Files can be read or written depending of the argument we pass to the command file. The file, once manipulated, has to be closed with the command close() unless we use the `with` statement (recomended).  \n",
    "\n",
    "Arguments available to open a file:  \n",
    "```\n",
    "    'r'  -->  read only  \n",
    "    'w'  -->  write only (overwrite a file with the same name)  \n",
    "    'a'  -->  append to the existing file (do not overwrite)  \n",
    "    'r+' -->  open a file both in read and write mode  \n",
    "    'b'  -->  binary mode  \n",
    "    't'  -->  ascii mode  \n",
    "```"
   ]
  },
  {
   "cell_type": "markdown",
   "metadata": {},
   "source": [
    "#### **Read** "
   ]
  },
  {
   "cell_type": "markdown",
   "metadata": {},
   "source": [
    "Let's read an example fasta file with python."
   ]
  },
  {
   "cell_type": "code",
   "execution_count": null,
   "metadata": {
    "tags": []
   },
   "outputs": [],
   "source": [
    "# Reads a file (stores all the file in memory)\n",
    "with open('../data/input.fa', 'r') as fd:\n",
    "    whole = fd.readlines()\n",
    "\n",
    "print(whole)"
   ]
  },
  {
   "cell_type": "code",
   "execution_count": null,
   "metadata": {
    "tags": []
   },
   "outputs": [],
   "source": [
    "# It is better to print without the newline (\\n) character\n",
    "for line in whole:\n",
    "    print(line.strip())   # same as: print(line, end='') "
   ]
  },
  {
   "cell_type": "markdown",
   "metadata": {},
   "source": [
    "Storing a whole file in memory can be dangerous, expecially if we have to read a big file. A safer option is to read the file line by line:"
   ]
  },
  {
   "cell_type": "code",
   "execution_count": null,
   "metadata": {
    "tags": []
   },
   "outputs": [],
   "source": [
    "# Reads a file line by line (memory safe)\n",
    "with open('../data/input.fa', 'r') as fd:\n",
    "    for line in fd:\n",
    "        # Here we write the instructions\n",
    "        print(line.strip())"
   ]
  },
  {
   "cell_type": "markdown",
   "metadata": {},
   "source": [
    "#### **Write**"
   ]
  },
  {
   "cell_type": "markdown",
   "metadata": {},
   "source": [
    "#### **Pay attention!** with this instruction you will overwrite an existing file with the same name without any warning!"
   ]
  },
  {
   "cell_type": "code",
   "execution_count": null,
   "metadata": {
    "tags": []
   },
   "outputs": [],
   "source": [
    "with open('../data/output.txt', 'w') as fd:\n",
    "    fd.write('Hello world!!\\n')"
   ]
  },
  {
   "cell_type": "code",
   "execution_count": null,
   "metadata": {
    "tags": []
   },
   "outputs": [],
   "source": [
    "# Let's check if the file has been succesfully written\n",
    "with open('../data/output.txt', 'r') as fd:\n",
    "    for line in fd:\n",
    "        print(line)"
   ]
  },
  {
   "cell_type": "markdown",
   "metadata": {},
   "source": [
    "### Exercise"
   ]
  },
  {
   "cell_type": "markdown",
   "metadata": {},
   "source": [
    "Try to write a code that reads the `../data/input.fa` file and writes to an output file only the DNA sequences (without the headers `>` of the sequences).\n",
    "\n",
    "[![button](../figures/button_solution_small.png)](solutions.ipynb#Reading-and-writing-files)"
   ]
  },
  {
   "cell_type": "markdown",
   "metadata": {},
   "source": [
    "### Write a script"
   ]
  },
  {
   "cell_type": "markdown",
   "metadata": {},
   "source": [
    "Python can be used interactively (for instance in a terminal). This is fine for short task or for debugging a piece of code, but is not recommended for sophisticated tasks.  \n",
    "In such cases it is much easier to write a script that we can eventually execute. \n",
    "\n",
    "The following code calculate the number of sequences in a fasta file. Write the code in a text editor and then save it with the extention `.py` (for example 'my_script.py')"
   ]
  },
  {
   "cell_type": "code",
   "execution_count": null,
   "metadata": {
    "tags": []
   },
   "outputs": [],
   "source": [
    "# This script calculate the number of sequences in a fasta file\n",
    "count = 0\n",
    "\n",
    "with open('../data/input.fa', 'r') as fd:\n",
    "    for line in fd:\n",
    "        if line.startswith('>'):\n",
    "            count += 1\n",
    "\n",
    "print(\"The file contains\", count, \"sequences\")"
   ]
  },
  {
   "cell_type": "markdown",
   "metadata": {},
   "source": [
    "Save the script somewhere, for instance in the folder `scripts` with the name `my_script.py`.  \n",
    "Now execute the script as following:\n",
    "```\n",
    "    python3 ../scripts/my_script.py\n",
    "```"
   ]
  }
 ],
 "metadata": {
  "kernelspec": {
   "display_name": "Python 3 (ipykernel)",
   "language": "python",
   "name": "python3"
  },
  "language_info": {
   "codemirror_mode": {
    "name": "ipython",
    "version": 3
   },
   "file_extension": ".py",
   "mimetype": "text/x-python",
   "name": "python",
   "nbconvert_exporter": "python",
   "pygments_lexer": "ipython3",
   "version": "3.12.9"
  }
 },
 "nbformat": 4,
 "nbformat_minor": 4
}
