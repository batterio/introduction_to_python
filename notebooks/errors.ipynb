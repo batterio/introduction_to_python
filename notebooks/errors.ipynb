{
 "cells": [
  {
   "cell_type": "markdown",
   "metadata": {},
   "source": [
    "# Handling errors"
   ]
  },
  {
   "cell_type": "markdown",
   "metadata": {},
   "source": [
    "## Index"
   ]
  },
  {
   "cell_type": "markdown",
   "metadata": {},
   "source": [
    "* [Common errors](errors.ipynb#Common-errors)\n",
    "* [Exercise 11](errors.ipynb#Exercise-11)\n",
    "* [Exercise 12](errors.ipynb#Exercise-12)\n",
    "* [Handle exceptions](errors.ipynb#Handle-exceptions)\n",
    "* [Raise exceptions](errors.ipynb#Raise-exceptions)"
   ]
  },
  {
   "cell_type": "markdown",
   "metadata": {},
   "source": [
    "## Common errors\n",
    "[back to top](errors.ipynb#Index)"
   ]
  },
  {
   "cell_type": "markdown",
   "metadata": {},
   "source": [
    "Some errors are very easy to spot. Python in general gives very useful tips about the errors that are raised, like the type of error and the line of the code that contains the error. On the other side, other errors are very tricky to solve and sometimes it could be very frustrating to figure out which portion of our code is not working as expected.  \n",
    "\n",
    "The worst scenario is when the scripts work well and they don't raise any errors, but the results are wrong.  \n",
    "\n",
    "Here I'll list some of the most common mistakes that are made writing code"
   ]
  },
  {
   "cell_type": "markdown",
   "metadata": {},
   "source": [
    "### Never ending loop"
   ]
  },
  {
   "cell_type": "markdown",
   "metadata": {},
   "source": [
    "The following loop will keep going forever!!  \n",
    "You can kill it by `interrupting the kernel`"
   ]
  },
  {
   "cell_type": "code",
   "execution_count": null,
   "metadata": {},
   "outputs": [],
   "source": [
    "n = 0\n",
    "\n",
    "while n < 5:\n",
    "    print(n)"
   ]
  },
  {
   "cell_type": "code",
   "execution_count": null,
   "metadata": {},
   "outputs": [],
   "source": [
    "# This is the correct loop\n",
    "n = 0\n",
    "while n < 5:\n",
    "    print(n)\n",
    "    n += 1"
   ]
  },
  {
   "cell_type": "markdown",
   "metadata": {},
   "source": [
    "### Numbers are not strings!"
   ]
  },
  {
   "cell_type": "code",
   "execution_count": null,
   "metadata": {},
   "outputs": [],
   "source": [
    "3 > 10"
   ]
  },
  {
   "cell_type": "code",
   "execution_count": null,
   "metadata": {},
   "outputs": [],
   "source": [
    "'3' > '10'"
   ]
  },
  {
   "cell_type": "markdown",
   "metadata": {},
   "source": [
    "This is an error that is commonly made when numbers are read from a file.  \n",
    "Python by default consider as `string` the content of a file"
   ]
  },
  {
   "cell_type": "code",
   "execution_count": null,
   "metadata": {},
   "outputs": [],
   "source": [
    "# We write a file with 2 numbers\n",
    "with open('../data/numbers.txt', 'w') as fd:\n",
    "    fd.write('3\\n')\n",
    "    fd.write('14\\n')"
   ]
  },
  {
   "cell_type": "code",
   "execution_count": null,
   "metadata": {},
   "outputs": [],
   "source": [
    "# Now we read the file and we compare the numbers\n",
    "numbers = []\n",
    "\n",
    "with open('../data/numbers.txt', 'r') as fd:\n",
    "    for line in fd:\n",
    "        numbers.append(line.strip())\n",
    "        \n",
    "print(numbers)"
   ]
  },
  {
   "cell_type": "code",
   "execution_count": null,
   "metadata": {},
   "outputs": [],
   "source": [
    "numbers[0] > numbers[1]"
   ]
  },
  {
   "cell_type": "code",
   "execution_count": null,
   "metadata": {},
   "outputs": [],
   "source": [
    "type(numbers[0]), type(numbers[1])"
   ]
  },
  {
   "cell_type": "code",
   "execution_count": null,
   "metadata": {},
   "outputs": [],
   "source": [
    "# This is how we should do it\n",
    "numbers = []\n",
    "\n",
    "with open('../data/numbers.txt', 'r') as fd:\n",
    "    for line in fd:\n",
    "        numbers.append(int(line.strip()))\n",
    "\n",
    "print(numbers)"
   ]
  },
  {
   "cell_type": "code",
   "execution_count": null,
   "metadata": {},
   "outputs": [],
   "source": [
    "numbers[0] > numbers[1]"
   ]
  },
  {
   "cell_type": "code",
   "execution_count": null,
   "metadata": {},
   "outputs": [],
   "source": [
    "type(numbers[0]), type(numbers[1])"
   ]
  },
  {
   "cell_type": "markdown",
   "metadata": {},
   "source": [
    "### Overwrite a built-in Python type"
   ]
  },
  {
   "cell_type": "markdown",
   "metadata": {},
   "source": [
    "We have seen that `str` is used to convert a number in string and `int` is used to convert a string in number (when possible).  \n",
    "Overwrite this command with a variable could be dangerous! "
   ]
  },
  {
   "cell_type": "code",
   "execution_count": null,
   "metadata": {},
   "outputs": [],
   "source": [
    "str = \"Hello World!\"\n",
    "str(3)"
   ]
  },
  {
   "cell_type": "code",
   "execution_count": null,
   "metadata": {},
   "outputs": [],
   "source": [
    "int = 3 + 4\n",
    "int('3')"
   ]
  },
  {
   "cell_type": "markdown",
   "metadata": {},
   "source": [
    "## Exercise 11\n",
    "[back to top](errors.ipynb#Index)"
   ]
  },
  {
   "cell_type": "markdown",
   "metadata": {},
   "source": [
    "Here there are few lines of code that find the strand (`+` or `-`) of a set of yeast genes.  \n",
    "Try to find whether there is something wrong with this script. "
   ]
  },
  {
   "cell_type": "code",
   "execution_count": null,
   "metadata": {},
   "outputs": [],
   "source": [
    "with open('../data/yeast_genes_chrom2.txt', 'r') as fd:                        # Open the input file\n",
    "    with open('../data/yeast_genes_chrom2_strand.txt', 'w') as out:            # Create the output file\n",
    "        \n",
    "        int = 1                                                                # Declare a variable to spot the first line of the file\n",
    "        \n",
    "        for line in fd:                                                        # Read the input file line by line\n",
    "            \n",
    "            if int > 0:                                                        # First line of the file\n",
    "                out.write(line.strip() + '\\tStrand\\n')                         # Write the header of the output file\n",
    "                int = 0                                                        # Change the value of the variable `int`\n",
    "                continue\n",
    "                \n",
    "            line = line.strip().split('\\t')                                    # Remove the newline and split the line by the tab\n",
    "            start_position = line[2]                                           # Create a variable with the start position \n",
    "            stop_position = line[3]                                            # Create a variable with the stop position \n",
    "             \n",
    "            if start_position < stop_position:                                 # Determine the strand by comparing the start and the stop positions\n",
    "                strand = \"+\"\n",
    "            else:\n",
    "                strand = \"-\"\n",
    "                \n",
    "            line.append(strand)                                                # Add the strand to the list\n",
    "            out.write('\\t'.join(line) + '\\n')                                  # Write to the output file"
   ]
  },
  {
   "cell_type": "markdown",
   "metadata": {},
   "source": [
    "[Solution](solutions.ipynb#Exercise-11)"
   ]
  },
  {
   "cell_type": "markdown",
   "metadata": {},
   "source": [
    "## Exercise 12\n",
    "[back to top](errors.ipynb#Index)"
   ]
  },
  {
   "cell_type": "markdown",
   "metadata": {},
   "source": [
    "Find the error in the following code:"
   ]
  },
  {
   "cell_type": "code",
   "execution_count": null,
   "metadata": {},
   "outputs": [],
   "source": [
    "# This function returns the most common character of a word.\n",
    "def most_common(word):\n",
    "    \"\"\"This function returns the most common character in a word\n",
    "    \n",
    "    :param word: str, world\n",
    "    :return: str, the most repeated character\n",
    "    \"\"\"\n",
    "\n",
    "    alphabet = \"abcdefghijklmnopqrstuvwxyzab\"\n",
    "    \n",
    "    # We create a dictionary of the characters of the word\n",
    "    d = {}\n",
    "    for n in alphabet:\n",
    "        d[n] = 0\n",
    "        \n",
    "    # Now we count the number of characters\n",
    "    for i in word:\n",
    "        d[i] += 1\n",
    "        \n",
    "    # In order to find out which character is the most common, we reverse the dictionary\n",
    "    reversed_d = {}\n",
    "    for key, value in d.items():\n",
    "        reversed_d[value] = key\n",
    " \n",
    "    max_repetitions = max(reversed_d.keys())\n",
    "    common_character = reversed_d[max_repetitions]\n",
    "    \n",
    "    return common_character"
   ]
  },
  {
   "cell_type": "code",
   "execution_count": null,
   "metadata": {},
   "outputs": [],
   "source": [
    "# Now we test the function. Let's try with the word book that has 2 'o'\n",
    "most_common(\"books\")         "
   ]
  },
  {
   "cell_type": "code",
   "execution_count": null,
   "metadata": {},
   "outputs": [],
   "source": [
    "# Ok, let's try with another word...\n",
    "most_common(\"python\")"
   ]
  },
  {
   "cell_type": "markdown",
   "metadata": {},
   "source": [
    "[Solution](solutions.ipynb#Exercise-12)"
   ]
  },
  {
   "cell_type": "markdown",
   "metadata": {},
   "source": [
    "## Handle exceptions\n",
    "[back to top](errors.ipynb#Index)"
   ]
  },
  {
   "cell_type": "markdown",
   "metadata": {},
   "source": [
    "When an error occurs, Python generate an exception that can be handled. This avoids our program to crash.  \n",
    "Error handling in Python is done through the use of exceptions that are caught in `try` blocks and handled in `except` blocks. If an error is encountered, a try block code execution is stopped and transfered down to the except block."
   ]
  },
  {
   "cell_type": "code",
   "execution_count": null,
   "metadata": {},
   "outputs": [],
   "source": [
    "# We cannot divide a number by zero!\n",
    "1 / 0"
   ]
  },
  {
   "cell_type": "code",
   "execution_count": null,
   "metadata": {},
   "outputs": [],
   "source": [
    "# Ok, let's handle the exception 'ZeroDivisionError'\n",
    "try:\n",
    "    1 / 0\n",
    "except ZeroDivisionError as e:\n",
    "    print(\"You cannot divide by zero! Try another number\")"
   ]
  },
  {
   "cell_type": "code",
   "execution_count": null,
   "metadata": {},
   "outputs": [],
   "source": [
    "# We can also control more than one exception\n",
    "try:\n",
    "    1 / 'a'\n",
    "except ZeroDivisionError:\n",
    "    print(\"You cannot divide by zero! Try another number\")\n",
    "except TypeError:\n",
    "    print(\"You cannot divide a number by a string! Use another number instead\")"
   ]
  },
  {
   "cell_type": "code",
   "execution_count": null,
   "metadata": {},
   "outputs": [],
   "source": [
    "# It is also possible to handle all the possible exceptions, without defining a specific error, althouh it is not recommended\n",
    "try:\n",
    "    1 / 0\n",
    "except Exception:\n",
    "    print(\"Invalid operation\")"
   ]
  },
  {
   "cell_type": "markdown",
   "metadata": {},
   "source": [
    "## Raise exceptions\n",
    "[back to top](errors.ipynb#Index)"
   ]
  },
  {
   "cell_type": "markdown",
   "metadata": {},
   "source": [
    "You can raise an exception in you own program by using the `raise` statement.  \n",
    "This is useful to control that your program works properly avoiding erroneus results. Also, raise and exception can prevent an error that otherwise can crash the program."
   ]
  },
  {
   "cell_type": "code",
   "execution_count": null,
   "metadata": {},
   "outputs": [],
   "source": [
    "# This is a function that calculate the area of a triangle (base * height / 2)\n",
    "# We don't want an area of zero. So we will raise an exception if one of the argument passed to the function is zero\n",
    "\n",
    "def area(base, height):\n",
    "    if (base == 0) or (height == 0):\n",
    "        raise ValueError(\"Base and height should be bigger than zero!\")\n",
    "    return (base * height) / 2.0"
   ]
  },
  {
   "cell_type": "code",
   "execution_count": null,
   "metadata": {},
   "outputs": [],
   "source": [
    "area(5, 3)"
   ]
  },
  {
   "cell_type": "code",
   "execution_count": null,
   "metadata": {},
   "outputs": [],
   "source": [
    "area(5, 0)"
   ]
  }
 ],
 "metadata": {
  "kernelspec": {
   "display_name": "Python 3",
   "language": "python",
   "name": "python3"
  },
  "language_info": {
   "codemirror_mode": {
    "name": "ipython",
    "version": 3
   },
   "file_extension": ".py",
   "mimetype": "text/x-python",
   "name": "python",
   "nbconvert_exporter": "python",
   "pygments_lexer": "ipython3",
   "version": "3.7.1"
  }
 },
 "nbformat": 4,
 "nbformat_minor": 2
}
