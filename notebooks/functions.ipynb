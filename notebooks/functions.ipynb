{
 "cells": [
  {
   "cell_type": "markdown",
   "metadata": {},
   "source": [
    "# Functions"
   ]
  },
  {
   "cell_type": "markdown",
   "metadata": {},
   "source": [
    "## Index"
   ]
  },
  {
   "cell_type": "markdown",
   "metadata": {},
   "source": [
    "* [Putting all together](functions.ipynb#Putting-all-together)\n",
    "* [Functions](functions.ipynb#Functions)"
   ]
  },
  {
   "cell_type": "markdown",
   "metadata": {},
   "source": [
    "## Putting all together"
   ]
  },
  {
   "cell_type": "markdown",
   "metadata": {},
   "source": [
    "[back to top](functions.ipynb#Index)"
   ]
  },
  {
   "cell_type": "markdown",
   "metadata": {},
   "source": [
    "Now we can try to do something useful using what we have seen so far. For instance we can write few line of code to clean a dna sequence from those characters that don't belong to the DNA code."
   ]
  },
  {
   "cell_type": "code",
   "execution_count": null,
   "metadata": {},
   "outputs": [],
   "source": [
    "# Clean a DNA sequence from characters != [a,c,g,t]\n",
    "sequence = ' acgT 1 2 svG'\n",
    "dna_alphabet = 'acgt'\n",
    "dna = ''\n",
    "\n",
    "for c in sequence.lower():\n",
    "    if c in dna_alphabet:\n",
    "        dna += c\n",
    " \n",
    "print(dna)"
   ]
  },
  {
   "cell_type": "code",
   "execution_count": null,
   "metadata": {},
   "outputs": [],
   "source": [
    "# Make the reverse-complement of a DNA sequence\n",
    "sequence = 'CGACAAGGATTAGTAGTTTAC'\n",
    "basecomplement = {'a': 't', 'c': 'g', 't': 'a', 'g': 'c'}\n",
    "letters = list(sequence.lower()) \n",
    "letters.reverse()\n",
    "dna = ''\n",
    "\n",
    "for base in letters:\n",
    "    dna += basecomplement[base]\n",
    " \n",
    "print(dna)"
   ]
  },
  {
   "cell_type": "markdown",
   "metadata": {},
   "source": [
    "## Functions\n",
    "[back to top](functions.ipynb#Index)"
   ]
  },
  {
   "cell_type": "markdown",
   "metadata": {},
   "source": [
    "In the previous examples we wrote some useful lines of code. However every time we want to use that code, we need to rewrite it from scratch or copy-paste it somewhere else. This is error prone. It would be much better to be able to reuse the code without rewrite it.  \n",
    "\n",
    "This is `functions` come into play. When we want to use a piece of code several time, we can encapsulate it in a function. In few words a function is a block of instructions that can be used several times.  \n",
    "\n",
    "Functions are defined by the instruction `def` and the parameters passed to the function are included between two brackets `(` and `)`."
   ]
  },
  {
   "cell_type": "code",
   "execution_count": null,
   "metadata": {},
   "outputs": [],
   "source": [
    "# First we write a function to clean the DNA...\n",
    "\n",
    "def clean_dna(sequence):\n",
    "    \"\"\"Clean a dna sequence ftom non nucleotide bases (ACGT)\n",
    "    \n",
    "    :param sequence: str, raw dna sequence\n",
    "    :return: str, cleaned dna sequence\n",
    "    \"\"\"\n",
    "    \n",
    "    dna_alphabet = 'acgt'\n",
    "    dna = ''\n",
    "    \n",
    "    for c in sequence.lower():\n",
    "        if c in dna_alphabet:\n",
    "            dna += c\n",
    "    # The instruction return returns the result of the function\n",
    "    return dna"
   ]
  },
  {
   "cell_type": "code",
   "execution_count": null,
   "metadata": {},
   "outputs": [],
   "source": [
    "help(clean_dna)"
   ]
  },
  {
   "cell_type": "code",
   "execution_count": null,
   "metadata": {},
   "outputs": [],
   "source": [
    "clean_dna('aGyoGctta')"
   ]
  },
  {
   "cell_type": "code",
   "execution_count": null,
   "metadata": {},
   "outputs": [],
   "source": [
    "clean_dna('gtC fgt45 [tata]Y')"
   ]
  },
  {
   "cell_type": "code",
   "execution_count": null,
   "metadata": {},
   "outputs": [],
   "source": [
    "# ... and then we write a function to make the reverse-complement of a sequence\n",
    "def reversecomplement(sequence):\n",
    "    \"\"\"Return the reverse complement of a dna sequeunce.\n",
    "    \n",
    "    :param sequence: str, dna sequence\n",
    "    :return: str, reverse complement of the dna sequence\n",
    "    \"\"\" \n",
    "    \n",
    "    basecomplement = {'a': 't', 'c': 'g', 't': 'a', 'g': 'c'}\n",
    "    \n",
    "    # We can call the previous function from this function\n",
    "    sequence = clean_dna(sequence.lower())\n",
    "    letters = list(sequence) \n",
    "    letters.reverse() \n",
    "    dna = ''\n",
    "    \n",
    "    for base in letters:\n",
    "        dna += basecomplement[base] \n",
    "        \n",
    "    return dna"
   ]
  },
  {
   "cell_type": "code",
   "execution_count": null,
   "metadata": {},
   "outputs": [],
   "source": [
    "reversecomplement('CGACAAGGATT 4 AGTAGTTTAC')"
   ]
  },
  {
   "cell_type": "code",
   "execution_count": null,
   "metadata": {},
   "outputs": [],
   "source": [
    "'gattaca' == reversecomplement(reversecomplement('gattaca'))"
   ]
  },
  {
   "cell_type": "markdown",
   "metadata": {},
   "source": [
    "## Exercise 7\n",
    "[back to top](functions.ipynb#Index)"
   ]
  },
  {
   "cell_type": "markdown",
   "metadata": {},
   "source": [
    "Try to write a function that calculates the area of a triangle. Remember that the area of a triangle is given by this formula:  \n",
    "    `area = base * height / 2`"
   ]
  },
  {
   "cell_type": "markdown",
   "metadata": {},
   "source": [
    "[Solution](solutions.ipynb#Exercise-7)"
   ]
  },
  {
   "cell_type": "markdown",
   "metadata": {},
   "source": [
    "## Exercise 8\n",
    "[back to top](functions.ipynb#Index)"
   ]
  },
  {
   "cell_type": "markdown",
   "metadata": {},
   "source": [
    "Try to write a function that calculates the product of a serie of numbers that goes from `i` to `j`.\n",
    "\n",
    "For instance the product of the numbers that go from `i = 4` to `j = 7` is:  \n",
    "    `4 * 5 * 6 * 7 = 840`"
   ]
  },
  {
   "cell_type": "markdown",
   "metadata": {},
   "source": [
    "[Solution](solutions.ipynb#Exercise-8)"
   ]
  }
 ],
 "metadata": {
  "kernelspec": {
   "display_name": "Python 3",
   "language": "python",
   "name": "python3"
  },
  "language_info": {
   "codemirror_mode": {
    "name": "ipython",
    "version": 3
   },
   "file_extension": ".py",
   "mimetype": "text/x-python",
   "name": "python",
   "nbconvert_exporter": "python",
   "pygments_lexer": "ipython3",
   "version": "3.7.1"
  }
 },
 "nbformat": 4,
 "nbformat_minor": 2
}
