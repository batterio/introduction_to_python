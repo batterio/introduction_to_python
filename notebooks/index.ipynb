{
 "cells": [
  {
   "cell_type": "markdown",
   "metadata": {},
   "source": [
    "# Index"
   ]
  },
  {
   "cell_type": "markdown",
   "metadata": {},
   "source": [
    "Slides of the presentation can be found [here](https://docs.google.com/presentation/d/1JLvs9RG6MeeioZeOTTAzDOsavLOvfvMISIMh2NFrgKA/edit?usp=sharing)"
   ]
  },
  {
   "cell_type": "markdown",
   "metadata": {},
   "source": [
    "* [Introduction](introduction.ipynb)\n",
    "* [Flow Control](flow_control.ipynb)\n",
    "* [Functions](functions.ipynb)\n",
    "* [Reading and Writing files](read_write.ipynb)\n",
    "* [Handling errors](errors.ipynb)\n",
    "* [Classes](classes.ipynb)\n",
    "* [Matplotlib and Pandas](matplotlib_pandas.ipynb)\n",
    "* [Solutions to exercises](solutions.ipynb)"
   ]
  }
 ],
 "metadata": {
  "kernelspec": {
   "display_name": "Python 3",
   "language": "python",
   "name": "python3"
  },
  "language_info": {
   "codemirror_mode": {
    "name": "ipython",
    "version": 3
   },
   "file_extension": ".py",
   "mimetype": "text/x-python",
   "name": "python",
   "nbconvert_exporter": "python",
   "pygments_lexer": "ipython3",
   "version": "3.7.1"
  }
 },
 "nbformat": 4,
 "nbformat_minor": 2
}
