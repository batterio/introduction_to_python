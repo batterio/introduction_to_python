{
 "cells": [
  {
   "cell_type": "markdown",
   "metadata": {},
   "source": [
    "# Classes"
   ]
  },
  {
   "cell_type": "markdown",
   "metadata": {},
   "source": [
    "Classes are Python's main object-oriented programming tool. They support multiple instances, attribute inheritance, and operator overloading. You can think of a class as a blueprint. It isn't something in itself, it simply describes how to make something. You can create lots of objects from that blueprint - known technically as an instance. Classes are defined by the instruction `class`."
   ]
  },
  {
   "cell_type": "markdown",
   "metadata": {},
   "source": [
    "The name of the class should follow the `UpperCaseCamelCase` convention  \n",
    "Variables in classes are called `attributes`  \n",
    "Functions are calles `methods`"
   ]
  },
  {
   "cell_type": "markdown",
   "metadata": {},
   "source": [
    "## Index"
   ]
  },
  {
   "cell_type": "markdown",
   "metadata": {},
   "source": [
    "* [Class definition](classes.ipynb#Class-definition)\n",
    "* [Add methods to a class](classes.ipynb#Add-methods-to-a-class)\n",
    "* [Inheritance](classes.ipynb#Inheritance)\n",
    "* [Exercise 13](classes.ipynb#Exercise-13)\n",
    "* [Exercise 14](classes.ipynb#Exercise-14)"
   ]
  },
  {
   "cell_type": "markdown",
   "metadata": {},
   "source": [
    "## Class definition\n",
    "[back to top](classes.ipynb#Index)"
   ]
  },
  {
   "cell_type": "code",
   "execution_count": 1,
   "metadata": {},
   "outputs": [],
   "source": [
    "class Animal:\n",
    "    \n",
    "    def __init__(self, name, species, age):\n",
    "        self.name = name\n",
    "        self.species = species\n",
    "        self.age = age"
   ]
  },
  {
   "cell_type": "code",
   "execution_count": 2,
   "metadata": {},
   "outputs": [],
   "source": [
    "fufy = Animal('Fufy', 'rabbit', 1)"
   ]
  },
  {
   "cell_type": "code",
   "execution_count": 3,
   "metadata": {},
   "outputs": [
    {
     "data": {
      "text/plain": [
       "1"
      ]
     },
     "execution_count": 3,
     "metadata": {},
     "output_type": "execute_result"
    }
   ],
   "source": [
    "fufy.age"
   ]
  },
  {
   "cell_type": "code",
   "execution_count": 4,
   "metadata": {},
   "outputs": [
    {
     "data": {
      "text/plain": [
       "'rabbit'"
      ]
     },
     "execution_count": 4,
     "metadata": {},
     "output_type": "execute_result"
    }
   ],
   "source": [
    "fufy.species"
   ]
  },
  {
   "cell_type": "code",
   "execution_count": 5,
   "metadata": {},
   "outputs": [],
   "source": [
    "ted = Animal('Teddy', 'dog', 3)"
   ]
  },
  {
   "cell_type": "code",
   "execution_count": 6,
   "metadata": {},
   "outputs": [],
   "source": [
    "garfield = Animal('Garfield', 'cat', 7)"
   ]
  },
  {
   "cell_type": "markdown",
   "metadata": {},
   "source": [
    "## Add methods to a class\n",
    "[back to top](classes.ipynb#Index)"
   ]
  },
  {
   "cell_type": "code",
   "execution_count": 7,
   "metadata": {},
   "outputs": [],
   "source": [
    "class Animal:\n",
    "    \n",
    "    def __init__(self, name, species, age):\n",
    "        self.name = name\n",
    "        self.species = species\n",
    "        self.age = age\n",
    "        \n",
    "    def say_something(self, msg):\n",
    "        \"\"\"Print a message\n",
    "        \n",
    "        :param msg: message\n",
    "        :return: None\n",
    "        \"\"\"\n",
    "        \n",
    "        print(msg)"
   ]
  },
  {
   "cell_type": "code",
   "execution_count": 8,
   "metadata": {},
   "outputs": [],
   "source": [
    "ted = Animal('Teddy', 'dog', 3)"
   ]
  },
  {
   "cell_type": "code",
   "execution_count": 9,
   "metadata": {},
   "outputs": [],
   "source": [
    "garfield = Animal('Garfield', 'cat', 7)"
   ]
  },
  {
   "cell_type": "code",
   "execution_count": 10,
   "metadata": {},
   "outputs": [
    {
     "name": "stdout",
     "output_type": "stream",
     "text": [
      "Give me some treats!\n"
     ]
    }
   ],
   "source": [
    "ted.say_something('Give me some treats!')"
   ]
  },
  {
   "cell_type": "code",
   "execution_count": 11,
   "metadata": {},
   "outputs": [
    {
     "name": "stdout",
     "output_type": "stream",
     "text": [
      "Give me lasagna!\n"
     ]
    }
   ],
   "source": [
    "garfield.say_something('Give me lasagna!')"
   ]
  },
  {
   "cell_type": "markdown",
   "metadata": {},
   "source": [
    "## Inheritance\n",
    "[back to top](classes.ipynb#Index)"
   ]
  },
  {
   "cell_type": "code",
   "execution_count": 12,
   "metadata": {},
   "outputs": [],
   "source": [
    "class Dog(Animal):\n",
    "\n",
    "    def __init__(self, name, species, age):\n",
    "        super()\n",
    "\n",
    "    def speak(self):\n",
    "        \"\"\"Language of the animal\"\"\"\n",
    "        print('Woof woof!')"
   ]
  },
  {
   "cell_type": "code",
   "execution_count": 13,
   "metadata": {},
   "outputs": [],
   "source": [
    "class Cat(Animal):\n",
    "\n",
    "    def __init__(self, name, species, age):\n",
    "        super()\n",
    "\n",
    "    def speak(self):\n",
    "        \"\"\"Language of the animal\"\"\"\n",
    "        print('Meow meow!')"
   ]
  },
  {
   "cell_type": "code",
   "execution_count": 14,
   "metadata": {},
   "outputs": [],
   "source": [
    "ted = Dog('Teddy', 'dog', 3)"
   ]
  },
  {
   "cell_type": "code",
   "execution_count": 15,
   "metadata": {},
   "outputs": [
    {
     "name": "stdout",
     "output_type": "stream",
     "text": [
      "Woof woof!\n"
     ]
    }
   ],
   "source": [
    "ted.speak()"
   ]
  },
  {
   "cell_type": "code",
   "execution_count": 16,
   "metadata": {},
   "outputs": [],
   "source": [
    "garfield = Cat('Garfield', 'cat', 7)"
   ]
  },
  {
   "cell_type": "code",
   "execution_count": 17,
   "metadata": {},
   "outputs": [
    {
     "name": "stdout",
     "output_type": "stream",
     "text": [
      "Meow meow!\n"
     ]
    }
   ],
   "source": [
    "garfield.speak()"
   ]
  },
  {
   "cell_type": "markdown",
   "metadata": {},
   "source": [
    "## Exercise 13\n",
    "[back to top](classes.ipynb#Index)"
   ]
  },
  {
   "cell_type": "markdown",
   "metadata": {},
   "source": [
    "Write a class `Person` with the following `attributes`:\n",
    "* **name**: name of the person (for instance 'Kate')\n",
    "* **surname**: surname of te person (for instance 'Parson')\n",
    "* **year_of_birth**: year this person was born (for instance 1984)\n",
    "    \n",
    "and the following `method`:\n",
    "* **age**: function that calculate how old is this person"
   ]
  },
  {
   "cell_type": "markdown",
   "metadata": {},
   "source": [
    "[Solution](solutions.ipynb#Exercise-13)"
   ]
  },
  {
   "cell_type": "markdown",
   "metadata": {},
   "source": [
    "## Exercise 14\n",
    "[back to top](classes.ipynb#Index)"
   ]
  },
  {
   "cell_type": "markdown",
   "metadata": {},
   "source": [
    "Try to organize this `functions` in a class called `DNA`"
   ]
  },
  {
   "cell_type": "markdown",
   "metadata": {},
   "source": [
    "```\n",
    "def calculate_GC_content(sequence):\n",
    "    \"\"\"Calculates the GC content of a DNA sequence\n",
    "    \n",
    "    :param sequence: string, sequence of DNA\n",
    "    :return: float, GC content\n",
    "    \"\"\"\n",
    "    \n",
    "    gc = (sequence.upper().count('G') + sequence.upper().count('C'))\n",
    "    return gc / len(sequence)\n",
    "\n",
    "\n",
    "def reverse(sequence):\n",
    "    \"\"\"Inverts the order of the bases in a DNA sequence\n",
    "    \n",
    "    :param sequence: string, sequence of DNA\n",
    "    :return: string, inverted sequence\n",
    "    \"\"\"\n",
    "    \n",
    "    seq = list(sequence)\n",
    "    seq.reverse()\n",
    "    return ''.join(seq)\n",
    "\n",
    "\n",
    "def complement(sequence):\n",
    "    \"\"\"Substitutes each nucleotide of a sequence with its complement\n",
    "    \n",
    "    :param sequence: string, sequence of DNA\n",
    "    :return: string, complement sequence\n",
    "    \"\"\"\n",
    "    \n",
    "    bases = {'A': \"T\", \"T\": \"A\", \"C\": \"G\", \"G\": \"C\", \"N\": \"N\"}\n",
    "    return ''.join([bases[b.upper()] for b in sequence])\n",
    "\n",
    "\n",
    "def reverse_complement(sequence):\n",
    "    \"\"\"Makes the reverse complement of a sequence of DNA\n",
    "    \n",
    "    :param sequence: string, sequence of DNA\n",
    "    :return: string, reverse complement of the sequence\n",
    "    \"\"\"\n",
    "    \n",
    "    return complement(reverse(sequence))\n",
    "```"
   ]
  },
  {
   "cell_type": "markdown",
   "metadata": {},
   "source": [
    "[Solution](solutions.ipynb#Exercise-14)"
   ]
  }
 ],
 "metadata": {
  "kernelspec": {
   "display_name": "Python 3",
   "language": "python",
   "name": "python3"
  },
  "language_info": {
   "codemirror_mode": {
    "name": "ipython",
    "version": 3
   },
   "file_extension": ".py",
   "mimetype": "text/x-python",
   "name": "python",
   "nbconvert_exporter": "python",
   "pygments_lexer": "ipython3",
   "version": "3.7.1"
  }
 },
 "nbformat": 4,
 "nbformat_minor": 2
}
