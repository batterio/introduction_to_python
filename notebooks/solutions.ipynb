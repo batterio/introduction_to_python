{
 "cells": [
  {
   "cell_type": "markdown",
   "metadata": {},
   "source": [
    "# Solutions to exercises"
   ]
  },
  {
   "cell_type": "markdown",
   "metadata": {},
   "source": [
    "## Index"
   ]
  },
  {
   "cell_type": "markdown",
   "metadata": {},
   "source": [
    "* [Exercise 1](solutions.ipynb#Exercise-1)\n",
    "* [Exercise 2](solutions.ipynb#Exercise-2)\n",
    "* [Exercise 3](solutions.ipynb#Exercise-3)\n",
    "* [Exercise 4](solutions.ipynb#Exercise-4)\n",
    "* [Exercise 5](solutions.ipynb#Exercise-5)\n",
    "* [Exercise 6](solutions.ipynb#Exercise-6)\n",
    "* [Exercise 7](solutions.ipynb#Exercise-7)\n",
    "* [Exercise 8](solutions.ipynb#Exercise-8)\n",
    "* [Exercise 9](solutions.ipynb#Exercise-9)\n",
    "* [Exercise 10](solutions.ipynb#Exercise-10)\n",
    "* [Exercise 11](solutions.ipynb#Exercise-11)\n",
    "* [Exercise 12](solutions.ipynb#Exercise-12)\n",
    "* [Exercise 13](solutions.ipynb#Exercise-13)\n",
    "* [Exercise 14](solutions.ipynb#Exercise-14)"
   ]
  },
  {
   "cell_type": "markdown",
   "metadata": {},
   "source": [
    "## Exercise 1"
   ]
  },
  {
   "cell_type": "markdown",
   "metadata": {},
   "source": [
    "[Go to the exercise](introduction.ipynb#Exercise-1)"
   ]
  },
  {
   "cell_type": "code",
   "execution_count": 1,
   "metadata": {},
   "outputs": [
    {
     "name": "stdout",
     "output_type": "stream",
     "text": [
      "UUGGAAGAGCUUACUUAG\n"
     ]
    }
   ],
   "source": [
    "# First we create the variable 'rna'\n",
    "rna = \"UUgGAagaGcuuACUUag\"\n",
    "\n",
    "# We make sure that all the nucleotides are uppercase\n",
    "rna = rna.upper()\n",
    "\n",
    "print(rna)"
   ]
  },
  {
   "cell_type": "code",
   "execution_count": 2,
   "metadata": {},
   "outputs": [
    {
     "name": "stdout",
     "output_type": "stream",
     "text": [
      "TTGGAAGAGCTTACTTAG\n"
     ]
    }
   ],
   "source": [
    "# Now create another variable where all the 'U' are replaced with 'T'\n",
    "dna = rna.replace(\"U\", \"T\")\n",
    "print(dna)"
   ]
  },
  {
   "cell_type": "code",
   "execution_count": 3,
   "metadata": {},
   "outputs": [
    {
     "name": "stdout",
     "output_type": "stream",
     "text": [
      "0.3888888888888889\n"
     ]
    }
   ],
   "source": [
    "# We count the number of 'G' and 'C' in the sequence\n",
    "G = dna.count(\"G\")\n",
    "C = dna.count(\"C\")\n",
    "\n",
    "# We divide the number of 'G' + 'C' by the length of the sequence\n",
    "GC = (G + C)/float(len(dna))\n",
    "print(GC)"
   ]
  },
  {
   "cell_type": "code",
   "execution_count": 4,
   "metadata": {},
   "outputs": [
    {
     "data": {
      "text/plain": [
       "0.39"
      ]
     },
     "execution_count": 4,
     "metadata": {},
     "output_type": "execute_result"
    }
   ],
   "source": [
    "# We can also round the result to two decimals\n",
    "round(GC, 2)"
   ]
  },
  {
   "cell_type": "markdown",
   "metadata": {},
   "source": [
    "## Exercise 2"
   ]
  },
  {
   "cell_type": "markdown",
   "metadata": {},
   "source": [
    "[Go to the exercise](introduction.ipynb#Exercise-2)"
   ]
  },
  {
   "cell_type": "code",
   "execution_count": 5,
   "metadata": {},
   "outputs": [
    {
     "name": "stdout",
     "output_type": "stream",
     "text": [
      "['A', 'C', 'T', 'C', 'G', 'A', 'A', 'C', 'G', 'T', 'G', 'T', 'G', 'T', 'C', 'G', 'T', 'T', 'C', 'G', 'G', 'G', 'A', 'T', 'T', 'A', 'C', 'G']\n"
     ]
    }
   ],
   "source": [
    "# First we create the variable 'dna'\n",
    "dna = \"ACTCGAACGTGTGTCGTTCGGGATTACG\"\n",
    "\n",
    "# We transform the string in a list\n",
    "dna_list = list(dna)\n",
    "\n",
    "print(dna_list)"
   ]
  },
  {
   "cell_type": "code",
   "execution_count": 6,
   "metadata": {},
   "outputs": [
    {
     "name": "stdout",
     "output_type": "stream",
     "text": [
      "['G', 'C', 'A', 'T', 'T', 'A', 'G', 'G', 'G', 'C', 'T', 'T', 'G', 'C', 'T', 'G', 'T', 'G', 'T', 'G', 'C', 'A', 'A', 'G', 'C', 'T', 'C', 'A']\n"
     ]
    }
   ],
   "source": [
    "# Now we reverse the order of the list\n",
    "dna_list.reverse() \n",
    "print(dna_list)"
   ]
  },
  {
   "cell_type": "code",
   "execution_count": 7,
   "metadata": {},
   "outputs": [
    {
     "name": "stdout",
     "output_type": "stream",
     "text": [
      "GCATTAGGGCTTGCTGTGTGCAAGCTCA\n"
     ]
    }
   ],
   "source": [
    "# We concatenate all the elements of the list together\n",
    "dna_rev = \"\".join(dna_list)\n",
    "print(dna_rev)"
   ]
  },
  {
   "cell_type": "markdown",
   "metadata": {},
   "source": [
    "## Exercise 3"
   ]
  },
  {
   "cell_type": "markdown",
   "metadata": {},
   "source": [
    "[Go to the exercise](flow_control.ipynb#Exercise-3)"
   ]
  },
  {
   "cell_type": "code",
   "execution_count": 8,
   "metadata": {},
   "outputs": [],
   "source": [
    "# First we assign the sequence we want to clean to a variable\n",
    "sequence = ' acgT 1 2 svG'\n",
    "\n",
    "# These are the letters that belong the the DNA code\n",
    "dna_alphabet = 'acgt'\n",
    "\n",
    "# This is the variable where we will store the characters of the sequence that belong to the DNA code\n",
    "dna = ''\n",
    "\n",
    "# With a 'for' loop we analyze every single character of the sequence\n",
    "# With the 'if' statement we check whether the character is a valid nucleotide\n",
    "for c in sequence.lower():\n",
    "    if c in dna_alphabet:\n",
    "        dna += c"
   ]
  },
  {
   "cell_type": "code",
   "execution_count": 9,
   "metadata": {},
   "outputs": [
    {
     "name": "stdout",
     "output_type": "stream",
     "text": [
      "acgtg\n"
     ]
    }
   ],
   "source": [
    "print(dna)"
   ]
  },
  {
   "cell_type": "markdown",
   "metadata": {},
   "source": [
    "It is also possible to solve this exercise in a single line, using the `list comprehension`"
   ]
  },
  {
   "cell_type": "code",
   "execution_count": 10,
   "metadata": {},
   "outputs": [
    {
     "data": {
      "text/plain": [
       "'acgtg'"
      ]
     },
     "execution_count": 10,
     "metadata": {},
     "output_type": "execute_result"
    }
   ],
   "source": [
    "''.join([c for c in sequence.lower() if c in dna_alphabet])"
   ]
  },
  {
   "cell_type": "markdown",
   "metadata": {},
   "source": [
    "## Exercise 4"
   ]
  },
  {
   "cell_type": "markdown",
   "metadata": {},
   "source": [
    "[Go to the exercise](flow_control.ipynb#Exercise-4)"
   ]
  },
  {
   "cell_type": "code",
   "execution_count": 11,
   "metadata": {},
   "outputs": [],
   "source": [
    "# First we assign the sequence to a variable\n",
    "sequence = 'CGACAAGGATTAGTAGTTTAC'\n",
    "\n",
    "# Now we create a dictionary of the nucleotides and their corresponding complementary bases\n",
    "basecomplement = {'A': 'T', 'C': 'G', 'T': 'A', 'G': 'C'}\n",
    "\n",
    "# We transform the string in list\n",
    "letters = list(sequence) \n",
    "\n",
    "# We reverse the order of the list\n",
    "letters.reverse()\n",
    "\n",
    "# This is the variable where we will store the complementary sequence\n",
    "dna = ''\n",
    "\n",
    "# With a 'for' loop we analyze every nucleotide of the sequence and we retrieve the complementary base\n",
    "for base in letters:\n",
    "    dna += basecomplement[base]"
   ]
  },
  {
   "cell_type": "code",
   "execution_count": 12,
   "metadata": {},
   "outputs": [
    {
     "name": "stdout",
     "output_type": "stream",
     "text": [
      "GTAAACTACTAATCCTTGTCG\n"
     ]
    }
   ],
   "source": [
    "print(dna)"
   ]
  },
  {
   "cell_type": "markdown",
   "metadata": {},
   "source": [
    "## Exercise 5"
   ]
  },
  {
   "cell_type": "markdown",
   "metadata": {},
   "source": [
    "[Go to the exercise](flow_control.ipynb#Exercise-5)"
   ]
  },
  {
   "cell_type": "code",
   "execution_count": 13,
   "metadata": {},
   "outputs": [],
   "source": [
    "# First we assign the sequence to a variable\n",
    "sequence = 'CGACAAGGATTAGTAGTTTAC'\n",
    "\n",
    "# Now we create a dictionary of the nucleotides and their corresponding complementary bases\n",
    "basecomplement = {'A': 'T', 'C': 'G', 'T': 'A', 'G': 'C'}\n",
    "\n",
    "# We transform the string in list\n",
    "letters = list(sequence)\n",
    "\n",
    "# We reverse the order of the list\n",
    "letters.reverse()\n",
    "\n",
    "# This is the variable where we will store the complementary sequence\n",
    "dna = ''\n",
    "\n",
    "# With a 'while' loop we analyze every nucleotide of the sequence and we retrieve the complementary base\n",
    "n = 0\n",
    "\n",
    "while n < len(letters):\n",
    "    dna += basecomplement[letters[n]]\n",
    "    n += 1"
   ]
  },
  {
   "cell_type": "code",
   "execution_count": 14,
   "metadata": {},
   "outputs": [
    {
     "name": "stdout",
     "output_type": "stream",
     "text": [
      "GTAAACTACTAATCCTTGTCG\n"
     ]
    }
   ],
   "source": [
    "print(dna)"
   ]
  },
  {
   "cell_type": "markdown",
   "metadata": {},
   "source": [
    "## Exercise 6"
   ]
  },
  {
   "cell_type": "markdown",
   "metadata": {},
   "source": [
    "[Go to the exercise](flow_control.ipynb#Exercise-6)"
   ]
  },
  {
   "cell_type": "code",
   "execution_count": 15,
   "metadata": {},
   "outputs": [],
   "source": [
    "# First we create the variable 'rna'\n",
    "sequence = \"ATCTCAGTCGCTCTATTTGCGCCCCTCGATGGGTCGCTAGAGCTAGACGCTAGCTAGGACTCCTGATTTCGCGCTAGCTAGCTAGGCTAT\"\n",
    "\n",
    "# We create a list with the 3 stop codons\n",
    "stop_codons = [\"TAG\", \"TAA\", \"TGA\"]\n",
    "\n",
    "# We create the variable to count the triplets\n",
    "count = 0\n",
    "\n",
    "# We use a while loop to scan the sequence and we will break the loop when we found a stop codon\n",
    "n = 0\n",
    "\n",
    "while n < len(sequence):\n",
    "    codon = sequence[n: n + 3]\n",
    "    if codon in stop_codons:\n",
    "        break\n",
    "    count += 1\n",
    "    n += 3"
   ]
  },
  {
   "cell_type": "code",
   "execution_count": 16,
   "metadata": {},
   "outputs": [
    {
     "name": "stdout",
     "output_type": "stream",
     "text": [
      "18\n"
     ]
    }
   ],
   "source": [
    "print(count)      "
   ]
  },
  {
   "cell_type": "markdown",
   "metadata": {},
   "source": [
    "## Exercise 7"
   ]
  },
  {
   "cell_type": "markdown",
   "metadata": {},
   "source": [
    "[Go to the exercise](functions.ipynb#Exercise-7)"
   ]
  },
  {
   "cell_type": "code",
   "execution_count": 17,
   "metadata": {},
   "outputs": [],
   "source": [
    "# The area of a triangle is calculated by this formula: base * height / 2\n",
    "# We create a function called 'area' that accept two arguments: base and height\n",
    "\n",
    "def area(base, height):\n",
    "    \"\"\"This function calculates the area of a triangle.\n",
    "    \n",
    "    :param base: int or float, base of the triangle\n",
    "    :param height: int or float, height of the triangle\n",
    "    :return: float, area of the triangle\n",
    "    \"\"\"\n",
    "    \n",
    "    result = base * height * 0.5\n",
    "    return result"
   ]
  },
  {
   "cell_type": "code",
   "execution_count": 18,
   "metadata": {},
   "outputs": [
    {
     "name": "stdout",
     "output_type": "stream",
     "text": [
      "Help on function area in module __main__:\n",
      "\n",
      "area(base, height)\n",
      "    This function calculates the area of a triangle.\n",
      "    \n",
      "    :param base: int or float, base of the triangle\n",
      "    :param height: int or float, height of the triangle\n",
      "    :return: float, area of the triangle\n",
      "\n"
     ]
    }
   ],
   "source": [
    "# We can read the documentation of the function\n",
    "help(area)"
   ]
  },
  {
   "cell_type": "code",
   "execution_count": 19,
   "metadata": {},
   "outputs": [
    {
     "name": "stdout",
     "output_type": "stream",
     "text": [
      "10.0\n",
      "1435.5\n"
     ]
    }
   ],
   "source": [
    "# Now we can use the function with different bases and heights\n",
    "print(area(4, 5))\n",
    "print(area(87, 33))"
   ]
  },
  {
   "cell_type": "markdown",
   "metadata": {},
   "source": [
    "## Exercise 8"
   ]
  },
  {
   "cell_type": "markdown",
   "metadata": {},
   "source": [
    "[Go to the exercise](functions.ipynb#Exercise-8)"
   ]
  },
  {
   "cell_type": "code",
   "execution_count": 20,
   "metadata": {},
   "outputs": [],
   "source": [
    "# We create a function called 'Product' that accept two arguments: 'i' and 'j'\n",
    "def product(i, j):\n",
    "    \"\"\"This function calculates the product of a serie of numbers that goes from 'i' to 'j'\n",
    "    \n",
    "    :param i: int, the product start with this number\n",
    "    :param j: int, the product ends with this number\n",
    "    \"\"\"\n",
    "    \n",
    "    p = 1\n",
    "    while (i <= j):\n",
    "        p *= i\n",
    "        i += 1\n",
    "    return p"
   ]
  },
  {
   "cell_type": "code",
   "execution_count": 21,
   "metadata": {},
   "outputs": [
    {
     "data": {
      "text/plain": [
       "151200"
      ]
     },
     "execution_count": 21,
     "metadata": {},
     "output_type": "execute_result"
    }
   ],
   "source": [
    "# Let's try the function\n",
    "product(5, 10)"
   ]
  },
  {
   "cell_type": "code",
   "execution_count": 22,
   "metadata": {},
   "outputs": [
    {
     "data": {
      "text/plain": [
       "2432902008176640000"
      ]
     },
     "execution_count": 22,
     "metadata": {},
     "output_type": "execute_result"
    }
   ],
   "source": [
    "product(1, 20)"
   ]
  },
  {
   "cell_type": "markdown",
   "metadata": {},
   "source": [
    "## Exercise 9"
   ]
  },
  {
   "cell_type": "markdown",
   "metadata": {},
   "source": [
    "[Go to the exercise](read_write.ipynb#Exercise-9)"
   ]
  },
  {
   "cell_type": "code",
   "execution_count": 23,
   "metadata": {},
   "outputs": [],
   "source": [
    "with open('../data/input.fa', 'r') as fd:           # We open the input file\n",
    "    with open('../data/input.dna', 'w') as out:     # We create the output file\n",
    "\n",
    "        # Now we read every single line of the input file and if the\n",
    "        # line is not an header, we write it on the output file.\n",
    "        for line in fd:\n",
    "            if not line.startswith('>'):            # Same as: line[0] != '>':\n",
    "                out.write(line)"
   ]
  },
  {
   "cell_type": "code",
   "execution_count": 24,
   "metadata": {},
   "outputs": [
    {
     "name": "stdout",
     "output_type": "stream",
     "text": [
      "GAGTGAAATTAAGGCTATTT\n",
      "CGCTTTCTTTAAGCCCTAAC\n",
      "AATACCATTTAAGGAGTCAA\n",
      "GAAAATATTTAATGATGTCA\n",
      "AGCCTCAATTAAAAAAGTAT\n"
     ]
    }
   ],
   "source": [
    "# To check if the script worked, we can print all the lines of the file we just created\n",
    "with open('../data/input.dna', 'r') as fd:\n",
    "    for line in fd:\n",
    "        print(line, end='')"
   ]
  },
  {
   "cell_type": "markdown",
   "metadata": {},
   "source": [
    "## Exercise 10"
   ]
  },
  {
   "cell_type": "markdown",
   "metadata": {},
   "source": [
    "[Go to the exercise](read_write.ipynb#Exercise-10)"
   ]
  },
  {
   "cell_type": "markdown",
   "metadata": {},
   "source": [
    "[script](../scripts/my_script.py)"
   ]
  },
  {
   "cell_type": "markdown",
   "metadata": {},
   "source": [
    "## Exercise 11"
   ]
  },
  {
   "cell_type": "markdown",
   "metadata": {},
   "source": [
    "[Go to the exercise](errors.ipynb#Exercise-11)"
   ]
  },
  {
   "cell_type": "markdown",
   "metadata": {},
   "source": [
    "The script doesn't generate any exception, but if you check the gene `SEF1` in the result file you will find that there is something wrong:  \n",
    "the start position of the gene is bigger than the stop position of the gene, but its strand is positive (`+`).  \n",
    "This happened because we forgot to convert the positions in integers and python considered them strings (by default whatever it is read from a file is a string)"
   ]
  },
  {
   "cell_type": "markdown",
   "metadata": {},
   "source": [
    "These line:\n",
    "```\n",
    "    if start_position < stop_position:\n",
    "```\n",
    "\n",
    "Should be instead:\n",
    "```\n",
    "    if int(start_position) < int(stop_position):\n",
    "```"
   ]
  },
  {
   "cell_type": "markdown",
   "metadata": {},
   "source": [
    "If you execute now the script you will get another error (`TypeError`) that says:\n",
    "\n",
    "```\n",
    "...\n",
    "     15             stop_position = line[3]  \n",
    "     16 \n",
    "---> 17             if int(start_position) < int(stop_position): \n",
    "     18                 strand = \"+\"\n",
    "     19             else:\n",
    "\n",
    "TypeError: 'int' object is not callable\n",
    "```  \n",
    "\n",
    "Can you figure out what's wrong?"
   ]
  },
  {
   "cell_type": "markdown",
   "metadata": {},
   "source": [
    "The correct version of the script is the following: "
   ]
  },
  {
   "cell_type": "code",
   "execution_count": 25,
   "metadata": {},
   "outputs": [],
   "source": [
    "with open('../data/yeast_genes_chrom2.txt', 'r') as fd:                        # Open the input file\n",
    "    with open('../data/yeast_genes_chrom2_strand.txt', 'w') as out:            # Create the output file\n",
    "        \n",
    "        for line in fd:                                                        # Read the input file line by line\n",
    "            \n",
    "            if line.startswith('Gene_name'):                                   # First line of the file\n",
    "                out.write(line.strip() + '\\tStrand\\n')                         # Write the header of the output file\n",
    "                continue\n",
    "                \n",
    "            line = line.strip().split('\\t')                                    # Remove the newline and split the line by the tab\n",
    "            start_position = line[2]                                           # Create a variable with the start position \n",
    "            stop_position = line[3]                                            # Create a variable with the stop position \n",
    "             \n",
    "            if int(start_position) < int(stop_position):                       # Determine the strand by comparing the start and the stop positions\n",
    "                strand = \"+\"\n",
    "            else:\n",
    "                strand = \"-\"\n",
    "                \n",
    "            line.append(strand)                                                # Add the strand to the list\n",
    "            out.write('\\t'.join(line) + '\\n')                                  # Write to the output file"
   ]
  },
  {
   "cell_type": "markdown",
   "metadata": {},
   "source": [
    "## Exercise 12"
   ]
  },
  {
   "cell_type": "markdown",
   "metadata": {},
   "source": [
    "[Go to the exercise](errors.ipynb#Exercise-12)"
   ]
  },
  {
   "cell_type": "markdown",
   "metadata": {},
   "source": [
    "The error is in this line:\n",
    "```\n",
    "    reversed_d[value] = key\n",
    "```\n",
    "\n",
    "What happened is that dictionaries cannot have non-unique keys and in the code we are overwriting all the keys that are the same.  \n",
    "We need to add the value of every key to a list instead.\n",
    "```\n",
    "    reversed_d = {}\n",
    "    for key, value in d.items():\n",
    "        if value in reversed_d.keys():\n",
    "            reversed_d[value].append(key)\n",
    "        else:\n",
    "            reversed_d[value] = [key]\n",
    "```\n",
    "\n",
    "Now if we try to execute the code with the word `python` we obtain:\n",
    "```\n",
    "    most_common(\"python\")\n",
    "    ['h', 'o', 'n', 'p', 't', 'y']\n",
    "```"
   ]
  },
  {
   "cell_type": "markdown",
   "metadata": {},
   "source": [
    "This is the correct code:"
   ]
  },
  {
   "cell_type": "code",
   "execution_count": 26,
   "metadata": {},
   "outputs": [],
   "source": [
    "# This function returns the most common character of a word.\n",
    "def most_common(word):\n",
    "    \"\"\"This function returns the most common character in a word\n",
    "    \n",
    "    :param word: str, world\n",
    "    :return: str, the most repeated character\n",
    "    \"\"\"\n",
    "\n",
    "    alphabet = \"abcdefghijklmnopqrstuvwxyzab\"\n",
    "    \n",
    "    # We create a dictionary of the characters of the word\n",
    "    d = {}\n",
    "    for n in alphabet:\n",
    "        d[n] = 0\n",
    "        \n",
    "    # Now we count the number of characters\n",
    "    for i in word:\n",
    "        d[i] += 1\n",
    "        \n",
    "    # In order to find out which character is the most common, we reverse the dictionary\n",
    "    reversed_d = {}\n",
    "    for key, value in d.items():\n",
    "        if value in reversed_d.keys():\n",
    "            reversed_d[value].append(key)\n",
    "        else:\n",
    "            reversed_d[value] = [key]\n",
    " \n",
    "    max_repetitions = max(reversed_d.keys())\n",
    "    common_character = reversed_d[max_repetitions]\n",
    "    \n",
    "    return common_character"
   ]
  },
  {
   "cell_type": "code",
   "execution_count": 27,
   "metadata": {},
   "outputs": [
    {
     "data": {
      "text/plain": [
       "['h', 'n', 'o', 'p', 't', 'y']"
      ]
     },
     "execution_count": 27,
     "metadata": {},
     "output_type": "execute_result"
    }
   ],
   "source": [
    "most_common(\"python\")"
   ]
  },
  {
   "cell_type": "markdown",
   "metadata": {},
   "source": [
    "## Exercise 13"
   ]
  },
  {
   "cell_type": "markdown",
   "metadata": {},
   "source": [
    "[Go to the exercise](classes.ipynb#Exercise-13)"
   ]
  },
  {
   "cell_type": "code",
   "execution_count": 28,
   "metadata": {},
   "outputs": [],
   "source": [
    "class Person:\n",
    "    \n",
    "    def __init__(self, name, surname, year_of_birth):\n",
    "        \"\"\"Initializes the Person class\n",
    "        \n",
    "        :param name: name of the person\n",
    "        :param surname: surname of te person\n",
    "        :param year_of_birth: year this person was born\n",
    "        :return: None\n",
    "        \"\"\"\n",
    "\n",
    "        self.name = name\n",
    "        self.surname = surname\n",
    "        self.year_of_birth= year_of_birth\n",
    "        self.current_year = 2019\n",
    "        \n",
    "    def age(self):\n",
    "        \"\"\"Calculates the age pf the person\n",
    "        \n",
    "        :return None\n",
    "        \"\"\"\n",
    "        \n",
    "        return self.current_year - self.year_of_birth"
   ]
  },
  {
   "cell_type": "code",
   "execution_count": 29,
   "metadata": {},
   "outputs": [],
   "source": [
    "john = Person(name='John', surname='Handcock', year_of_birth=1964)"
   ]
  },
  {
   "cell_type": "code",
   "execution_count": 30,
   "metadata": {},
   "outputs": [
    {
     "data": {
      "text/plain": [
       "55"
      ]
     },
     "execution_count": 30,
     "metadata": {},
     "output_type": "execute_result"
    }
   ],
   "source": [
    "john.age()"
   ]
  },
  {
   "cell_type": "markdown",
   "metadata": {},
   "source": [
    "## Exercise 14"
   ]
  },
  {
   "cell_type": "markdown",
   "metadata": {},
   "source": [
    "[Go to the exercise](classes.ipynb#Exercise-14)"
   ]
  },
  {
   "cell_type": "code",
   "execution_count": 31,
   "metadata": {},
   "outputs": [],
   "source": [
    "class DNA:\n",
    "    \n",
    "    def __init__(self, sequence):\n",
    "        \"\"\"Initializes the DNA class\n",
    "        \n",
    "        :param sequence: string, sequence of DNA\n",
    "        :return: None\n",
    "        \"\"\"\n",
    "        \n",
    "        self.sequence = sequence\n",
    "        \n",
    "    def calculate_GC_content(self):\n",
    "        \"\"\"Calculates the GC content of a DNA sequence\n",
    "\n",
    "        :return: float, GC content\n",
    "        \"\"\"\n",
    "\n",
    "        gc = (self.sequence.upper().count('G') + self.sequence.upper().count('C'))\n",
    "        return gc / len(self.sequence)\n",
    "\n",
    "\n",
    "    def reverse(self):\n",
    "        \"\"\"Inverts the order of the bases in a DNA sequence\n",
    "\n",
    "        :return: string, inverted sequence\n",
    "        \"\"\"\n",
    "\n",
    "        seq = list(self.sequence)\n",
    "        seq.reverse()\n",
    "        return ''.join(seq)\n",
    "\n",
    "\n",
    "    def complement(self, sequence=None):\n",
    "        \"\"\"Substitutes each nucleotide of a sequence with its complement\n",
    "\n",
    "        :param sequence: string, sequence of DNA. If seequence is None, self.sequence will be used\n",
    "        :return: string, complement sequence\n",
    "        \"\"\"\n",
    "\n",
    "        if sequence is None:\n",
    "            sequence = self.sequence\n",
    "        bases = {'A': \"T\", \"T\": \"A\", \"C\": \"G\", \"G\": \"C\", \"N\": \"N\"}\n",
    "        return ''.join([bases[b.upper()] for b in sequence])\n",
    "\n",
    "\n",
    "    def reverse_complement(self):\n",
    "        \"\"\"Makes the reverse complement of a sequence of DNA\n",
    "\n",
    "        :return: string, reverse complement of the sequence\n",
    "        \"\"\"\n",
    "\n",
    "        return self.complement(self.reverse())"
   ]
  },
  {
   "cell_type": "code",
   "execution_count": 32,
   "metadata": {},
   "outputs": [],
   "source": [
    "dna = DNA('agtgcgtgaaccc')"
   ]
  },
  {
   "cell_type": "code",
   "execution_count": 33,
   "metadata": {},
   "outputs": [
    {
     "data": {
      "text/plain": [
       "0.6153846153846154"
      ]
     },
     "execution_count": 33,
     "metadata": {},
     "output_type": "execute_result"
    }
   ],
   "source": [
    "dna.calculate_GC_content()"
   ]
  },
  {
   "cell_type": "code",
   "execution_count": 34,
   "metadata": {},
   "outputs": [
    {
     "data": {
      "text/plain": [
       "'cccaagtgcgtga'"
      ]
     },
     "execution_count": 34,
     "metadata": {},
     "output_type": "execute_result"
    }
   ],
   "source": [
    "dna.reverse()"
   ]
  },
  {
   "cell_type": "code",
   "execution_count": 35,
   "metadata": {},
   "outputs": [
    {
     "data": {
      "text/plain": [
       "'TCACGCACTTGGG'"
      ]
     },
     "execution_count": 35,
     "metadata": {},
     "output_type": "execute_result"
    }
   ],
   "source": [
    "dna.complement()"
   ]
  },
  {
   "cell_type": "code",
   "execution_count": 36,
   "metadata": {},
   "outputs": [
    {
     "data": {
      "text/plain": [
       "'GGGTTCACGCACT'"
      ]
     },
     "execution_count": 36,
     "metadata": {},
     "output_type": "execute_result"
    }
   ],
   "source": [
    "dna.reverse_complement()"
   ]
  }
 ],
 "metadata": {
  "kernelspec": {
   "display_name": "Python 3",
   "language": "python",
   "name": "python3"
  },
  "language_info": {
   "codemirror_mode": {
    "name": "ipython",
    "version": 3
   },
   "file_extension": ".py",
   "mimetype": "text/x-python",
   "name": "python",
   "nbconvert_exporter": "python",
   "pygments_lexer": "ipython3",
   "version": "3.7.1"
  }
 },
 "nbformat": 4,
 "nbformat_minor": 2
}
