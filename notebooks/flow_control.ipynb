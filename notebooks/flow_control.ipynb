{
 "cells": [
  {
   "cell_type": "markdown",
   "metadata": {},
   "source": [
    "# Flow Control"
   ]
  },
  {
   "cell_type": "markdown",
   "metadata": {},
   "source": [
    "## Index"
   ]
  },
  {
   "cell_type": "markdown",
   "metadata": {},
   "source": [
    "* [if...elif...else](#if...elif...else)\n",
    "* [While loop](#While-loop)\n",
    "* [For loop](#For-loop)\n",
    "* [Exercise 3](flow_control.ipynb#Exercise-3)\n",
    "* [Exercise 4](flow_control.ipynb#Exercise-4)\n",
    "* [Exercise 5](flow_control.ipynb#Exercise-5)\n",
    "* [pass, continue and break](#pass%2C-continue-and-break)\n",
    "* [Exercise 6](flow_control.ipynb#Exercise-6)"
   ]
  },
  {
   "cell_type": "markdown",
   "metadata": {},
   "source": [
    "## if...elif...else\n",
    "[back to top](flow_control.ipynb#Index)"
   ]
  },
  {
   "cell_type": "markdown",
   "metadata": {},
   "source": [
    "Python supports the `if`, `else` and `elif` statements for conditional execution of code.  \n",
    "The construct if - elif - else executes an operation only if a condition is satisfied."
   ]
  },
  {
   "cell_type": "code",
   "execution_count": null,
   "metadata": {},
   "outputs": [],
   "source": [
    "n = 7\n",
    "\n",
    "if n < 10:\n",
    "    print(\"small\")\n",
    "else:\n",
    "    print(\"big\")"
   ]
  },
  {
   "cell_type": "code",
   "execution_count": null,
   "metadata": {},
   "outputs": [],
   "source": [
    "# You can also have more than one conditions\n",
    "# Example: How high is the GC content?\n",
    "GC_content = 0.61\n",
    "    \n",
    "if GC_content < 0.4:\n",
    "    print(\"Low GC content\")\n",
    "elif GC_content > 0.65:\n",
    "    print(\"High GC content\")\n",
    "else:\n",
    "    print(\"Medium GC content\")"
   ]
  },
  {
   "cell_type": "markdown",
   "metadata": {},
   "source": [
    "## While loop\n",
    "[back to top](flow_control.ipynb#Index)"
   ]
  },
  {
   "cell_type": "markdown",
   "metadata": {},
   "source": [
    "Python supports the `while` statement for conditional looping.  \n",
    "The construct while executes an operation until a condition is satisfied."
   ]
  },
  {
   "cell_type": "code",
   "execution_count": null,
   "metadata": {},
   "outputs": [],
   "source": [
    "n = 0\n",
    "\n",
    "while n < 5:\n",
    "    print(n)\n",
    "    n += 1  # equal to n = n + 1"
   ]
  },
  {
   "cell_type": "code",
   "execution_count": null,
   "metadata": {},
   "outputs": [],
   "source": [
    "print(n)"
   ]
  },
  {
   "cell_type": "markdown",
   "metadata": {},
   "source": [
    "A `while` loop can be stopped wit the `break` instruction"
   ]
  },
  {
   "cell_type": "code",
   "execution_count": null,
   "metadata": {},
   "outputs": [],
   "source": [
    "n = 0\n",
    "\n",
    "while n < 100:\n",
    "    print(n)\n",
    "    n += 1 \n",
    "    \n",
    "    if n == 5:\n",
    "        break"
   ]
  },
  {
   "cell_type": "markdown",
   "metadata": {},
   "source": [
    "A very common error is to code a **never ending loop**. The following loop will keep going forever..  \n",
    "You can kill it by `interupting the kernel` (or by pressing the keys `Ctrl` and `C` together in a script)"
   ]
  },
  {
   "cell_type": "code",
   "execution_count": null,
   "metadata": {},
   "outputs": [],
   "source": [
    "n = 0\n",
    "\n",
    "while n < 5:\n",
    "    pass"
   ]
  },
  {
   "cell_type": "markdown",
   "metadata": {},
   "source": [
    "## For loop\n",
    "[back to top](flow_control.ipynb#Index)"
   ]
  },
  {
   "cell_type": "markdown",
   "metadata": {},
   "source": [
    "Python also supports the `for` statement for sequencial looping.  \n",
    "The construct for executes an operation for all the members of a list (or tuple, string, etc.)."
   ]
  },
  {
   "cell_type": "code",
   "execution_count": null,
   "metadata": {},
   "outputs": [],
   "source": [
    "# Loop over a list of numbers\n",
    "for i in range(3):\n",
    "    print(i)"
   ]
  },
  {
   "cell_type": "code",
   "execution_count": null,
   "metadata": {},
   "outputs": [],
   "source": [
    "# Loop over a string\n",
    "codon = \"atg\"\n",
    "\n",
    "for nucleotide in codon:\n",
    "    print(nucleotide)"
   ]
  },
  {
   "cell_type": "code",
   "execution_count": null,
   "metadata": {},
   "outputs": [],
   "source": [
    "# Loop over a dictionary\n",
    "dict = {1: 'a', 2: 'b', 3: 'c'}\n",
    "dict.items()"
   ]
  },
  {
   "cell_type": "code",
   "execution_count": null,
   "metadata": {},
   "outputs": [],
   "source": [
    "for key, value in dict.items():\n",
    "    print(key, \"=\", value)"
   ]
  },
  {
   "cell_type": "markdown",
   "metadata": {},
   "source": [
    "## Exercise 3\n",
    "[back to top](flow_control.ipynb#Index)"
   ]
  },
  {
   "cell_type": "markdown",
   "metadata": {},
   "source": [
    "Try to write a code than clean the the DNA sequence `\" acgT 1 2 svG\"` from those characters that do not belong to the DNA code.\n",
    "\n",
    "Tips:\n",
    "\n",
    "* Assign the sequence to a variable\n",
    "* Make all the nucleotides uppercase (or lowercase)\n",
    "* Create a variable that contain the correct DNA nucleotides (A, C, G, T)\n",
    "* With a 'for' loop check that every character of the sequence is a valid nucleotide\n",
    "* Store the valid character of the sequence in a new variable"
   ]
  },
  {
   "cell_type": "markdown",
   "metadata": {},
   "source": [
    "[Solution](solutions.ipynb#Exercise-3)"
   ]
  },
  {
   "cell_type": "markdown",
   "metadata": {},
   "source": [
    "## Exercise 4\n",
    "[back to top](flow_control.ipynb#Index)"
   ]
  },
  {
   "cell_type": "markdown",
   "metadata": {},
   "source": [
    "Try to write a code than calculate the **reverse-complement** if the DNA sequence `\"CGACAAGGATTAGTAGTTTAC\"`.\n",
    "\n",
    "Tips:\n",
    "\n",
    "* Assign the sequence to a variable\n",
    "* Create a dictionary where every nucleotide is linked to its complementary base\n",
    "* Create a list with the characters of the sequence\n",
    "* Reverse the list\n",
    "* With a 'for' loop, for every nnucleotide recover its complementary base\n",
    "* Store the complementary base in a new variable"
   ]
  },
  {
   "cell_type": "markdown",
   "metadata": {},
   "source": [
    "[Solution](solutions.ipynb#Exercise-4)"
   ]
  },
  {
   "cell_type": "markdown",
   "metadata": {},
   "source": [
    "## Exercise 5\n",
    "[back to top](flow_control.ipynb#Index)"
   ]
  },
  {
   "cell_type": "markdown",
   "metadata": {},
   "source": [
    "Try to solve the Exercise 2 using the `while` loop."
   ]
  },
  {
   "cell_type": "markdown",
   "metadata": {},
   "source": [
    "[Solution](solutions.ipynb#Exercise-5)"
   ]
  },
  {
   "cell_type": "markdown",
   "metadata": {},
   "source": [
    "## pass, continue and break\n",
    "[back to top](flow_control.ipynb#Index)"
   ]
  },
  {
   "cell_type": "markdown",
   "metadata": {},
   "source": [
    "Sometimes there is the need of interrupting a for or a while loop. In these case you can use the `break` instruction.  \n",
    "If instead there is the need of jump to the next iteration of the loop, `continue` is the instruction to use.  \n",
    "The instruction `pass` does nothing and it is used as a placeholder for future instructions."
   ]
  },
  {
   "cell_type": "code",
   "execution_count": null,
   "metadata": {},
   "outputs": [],
   "source": [
    "# We bound a variable to an integer...\n",
    "n = 5\n",
    "\n",
    "if n < 10:\n",
    "    # I don't know what to do, I keep the place and I'll decide what to do later\n",
    "    pass\n",
    "elif n == 10:\n",
    "    print(\"Big number!\")\n",
    "else:\n",
    "    print(\"Huge number!\")"
   ]
  },
  {
   "cell_type": "code",
   "execution_count": null,
   "metadata": {},
   "outputs": [],
   "source": [
    "# This loop prints only odd numbers.\n",
    "# The for loop is interrupted when the variable 'i' is equal to 7\n",
    "\n",
    "for i in range(100): \n",
    "    if i % 2 == 0: \n",
    "        continue \n",
    "    elif i == 7:\n",
    "        break\n",
    "    print(i)"
   ]
  },
  {
   "cell_type": "markdown",
   "metadata": {},
   "source": [
    "## Exercise 6\n",
    "[back to top](flow_control.ipynb#Index)"
   ]
  },
  {
   "cell_type": "markdown",
   "metadata": {},
   "source": [
    "Try to write a code than count the number of triplets in a sequence until a stop codon is found.  \n",
    "Stop codons are: `\"TAG\"`, `\"TAA\"` and `\"TGA\"`.\n",
    "\n",
    "The sequence to analyze is: `\"ATCTCAGTCGCTCTATTTGCGCCCCTCGATGGGTCGCTAGAGCTAGACGCTAGCTAGGACTCCTGATTTCGCGCTAGCTAGCTAGGCTAT\"`\n",
    "    \n",
    "Tips:\n",
    "\n",
    "* Assign the sequence to a variable\n",
    "* Create a list with the stop codons\n",
    "* Create a variable to count the triplets\n",
    "* With a 'while' loop scan the sequence 3 nucleotides at time until a stop codon is found\n",
    "* On every cycle, increase by 1 the variable that count the triplets"
   ]
  },
  {
   "cell_type": "markdown",
   "metadata": {},
   "source": [
    "[Solution](solutions.ipynb#Exercise6)"
   ]
  }
 ],
 "metadata": {
  "kernelspec": {
   "display_name": "Python 3",
   "language": "python",
   "name": "python3"
  },
  "language_info": {
   "codemirror_mode": {
    "name": "ipython",
    "version": 3
   },
   "file_extension": ".py",
   "mimetype": "text/x-python",
   "name": "python",
   "nbconvert_exporter": "python",
   "pygments_lexer": "ipython3",
   "version": "3.7.1"
  }
 },
 "nbformat": 4,
 "nbformat_minor": 2
}
