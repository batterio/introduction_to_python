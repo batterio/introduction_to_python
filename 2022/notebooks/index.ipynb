{
 "cells": [
  {
   "cell_type": "markdown",
   "metadata": {},
   "source": [
    "# Index"
   ]
  },
  {
   "cell_type": "markdown",
   "metadata": {},
   "source": [
    "Slides of the presentation can be found [here](https://docs.google.com/presentation/d/11G-e6zB6aOVzAmoM-gPDi8OeR6c5ORPpDQwuWkmzX7M/edit?usp=sharing)"
   ]
  },
  {
   "cell_type": "markdown",
   "metadata": {},
   "source": [
    "* [Basic Syntax](1-basic_syntax.ipynb)\n",
    "* [Data Structures](2-data_structures.ipynb)\n",
    "* [Flow Control](3-flow_control.ipynb)\n",
    "* [Functions](4-functions.ipynb)\n",
    "* [Reading and Writing files](5-read_write.ipynb)\n",
    "* [Matplotlib, Seaborn, and Pandas](6-useful_libraries.ipynb)\n",
    "* [Handling Errors](7-errors.ipynb)\n",
    "* [Classes](8-classes.ipynb)\n",
    "* [Solutions to Exercises](solutions.ipynb)"
   ]
  }
 ],
 "metadata": {
  "kernelspec": {
   "display_name": "Python 3 (ipykernel)",
   "language": "python",
   "name": "python3"
  },
  "language_info": {
   "codemirror_mode": {
    "name": "ipython",
    "version": 3
   },
   "file_extension": ".py",
   "mimetype": "text/x-python",
   "name": "python",
   "nbconvert_exporter": "python",
   "pygments_lexer": "ipython3",
   "version": "3.8.10"
  }
 },
 "nbformat": 4,
 "nbformat_minor": 4
}
