{
 "cells": [
  {
   "cell_type": "markdown",
   "id": "embedded-vulnerability",
   "metadata": {},
   "source": [
    "# Introduction to Coding"
   ]
  },
  {
   "cell_type": "markdown",
   "id": "anticipated-original",
   "metadata": {},
   "source": [
    "### Functions"
   ]
  },
  {
   "cell_type": "markdown",
   "id": "separate-float",
   "metadata": {},
   "source": [
    "In the previous exercise we wrote few useful lines of code. However every time we want to use that code, we need to rewrite it from scratch or copy-paste it somewhere else.  \n",
    "This is **error prone**. It would be much better to be able to reuse the code without rewrite it!  \n",
    "\n",
    "This is where `functions` come into play. When we want to use a piece of code several time, we can encapsulate it in a function. In few words a function is a block of instructions that can be used several times.  \n",
    "\n",
    "Functions are defined by the instruction `def` and the parameters passed to the function are included between two brackets `(` and `)`. The result of the function is returned with the `return` command. We can also add a description of the function by adding some text between three quotation marks on each side of the text `\"` just after the definition of the function."
   ]
  },
  {
   "cell_type": "markdown",
   "id": "3cbebb54-7bf9-4312-8e36-3da0df69c350",
   "metadata": {},
   "source": [
    "#### This is an example of a function..."
   ]
  },
  {
   "cell_type": "code",
   "execution_count": null,
   "id": "f3f71195-a87d-4a82-8b01-7af15e2ea76b",
   "metadata": {},
   "outputs": [],
   "source": [
    "# Name of the function and definition of the arguments\n",
    "def sum_2_numbers(number_1, number_2):\n",
    "    \"\"\"This function sums two numbers\"\"\"    # Here is where we can add a description of the function\n",
    "    \n",
    "    # Here goes the code\n",
    "    result = number_1 + number_2\n",
    "    \n",
    "    # Remember to return the result\n",
    "    return result"
   ]
  },
  {
   "cell_type": "markdown",
   "id": "4c075901-83bc-4685-932e-8a01f76c2eab",
   "metadata": {},
   "source": [
    "#### ...and this is how we use the function:"
   ]
  },
  {
   "cell_type": "code",
   "execution_count": null,
   "id": "698adf7d-f2c2-4af7-aede-4b9775cdef9f",
   "metadata": {},
   "outputs": [],
   "source": [
    "sum_2_numbers(3, 4)"
   ]
  },
  {
   "cell_type": "code",
   "execution_count": null,
   "id": "85ed1151-4a9e-4c0b-9c0a-a7dc01a6a779",
   "metadata": {},
   "outputs": [],
   "source": [
    "help(sum_2_numbers)"
   ]
  },
  {
   "cell_type": "markdown",
   "id": "macro-sheriff",
   "metadata": {},
   "source": [
    "#### Previous code"
   ]
  },
  {
   "cell_type": "code",
   "execution_count": null,
   "id": "accurate-replacement",
   "metadata": {},
   "outputs": [],
   "source": [
    "# First we assign the sequence to a variable\n",
    "sequence = 'CGACAAGGATTAGTAGTTTAC'\n",
    "\n",
    "# Now we create a dictionary of the nucleotides and their corresponding complementary bases\n",
    "basecomplement = {'A': 'T', 'C': 'G', 'T': 'A', 'G': 'C'}\n",
    "\n",
    "# Next we transform the string in list\n",
    "letters = list(sequence) \n",
    "\n",
    "# then we reverse the order of the list\n",
    "letters.reverse()\n",
    "\n",
    "# This is the list where we will store the complementary sequence\n",
    "dna = []\n",
    "\n",
    "# With a 'for' loop we get every nucleotide of the sequence and we retrieve its complementary base\n",
    "for base in letters:\n",
    "    complement_base = basecomplement[base]\n",
    "    dna.append(complement_base)\n",
    "    \n",
    "# Finally we create a new variable by concatenating together the elements of the list with the join command\n",
    "reverse_complement = \"\".join(dna)\n",
    "\n",
    "print(reverse_complement)"
   ]
  },
  {
   "cell_type": "markdown",
   "id": "regular-score",
   "metadata": {},
   "source": [
    "#### Same code but implemented as a function"
   ]
  },
  {
   "cell_type": "code",
   "execution_count": null,
   "id": "changed-liberia",
   "metadata": {},
   "outputs": [],
   "source": [
    "def reverse_complement(sequence):\n",
    "    \"\"\"Return the reverse complement of a dna sequence.\"\"\" \n",
    "\n",
    "    # Dictionary of the nucleotides and their corresponding complementary bases\n",
    "    basecomplement = {'A': 'T', 'C': 'G', 'T': 'A', 'G': 'C'}\n",
    "\n",
    "    letters = list(sequence) \n",
    "    letters.reverse()\n",
    "\n",
    "    dna = []\n",
    "    for base in letters:\n",
    "        complement_base = basecomplement[base]\n",
    "        dna.append(complement_base)\n",
    "\n",
    "    reverse_complement = \"\".join(dna)\n",
    "\n",
    "    return reverse_complement"
   ]
  },
  {
   "cell_type": "code",
   "execution_count": null,
   "id": "crazy-surname",
   "metadata": {},
   "outputs": [],
   "source": [
    "reverse_complement('CGACAAGGATTAGTAGTTTAC')"
   ]
  },
  {
   "cell_type": "code",
   "execution_count": null,
   "id": "initial-population",
   "metadata": {},
   "outputs": [],
   "source": [
    "reverse_complement('ACTG')"
   ]
  },
  {
   "cell_type": "markdown",
   "id": "f77dd341-103a-42ff-add6-4cfbcffd21f7",
   "metadata": {},
   "source": [
    "### Exercise"
   ]
  },
  {
   "cell_type": "markdown",
   "id": "cb25f7c9-2b3b-4f2e-a158-bb11b1c5321d",
   "metadata": {},
   "source": [
    "Try to write a function that calculates the area of a triangle. Remember that the area of a triangle is given by this formula:  \n",
    "    `area = base * height / 2`\n",
    "    \n",
    "[![button](../figures/button_solution_small.png)](solutions.ipynb#Functions)"
   ]
  }
 ],
 "metadata": {
  "kernelspec": {
   "display_name": "Python 3 (ipykernel)",
   "language": "python",
   "name": "python3"
  },
  "language_info": {
   "codemirror_mode": {
    "name": "ipython",
    "version": 3
   },
   "file_extension": ".py",
   "mimetype": "text/x-python",
   "name": "python",
   "nbconvert_exporter": "python",
   "pygments_lexer": "ipython3",
   "version": "3.8.10"
  }
 },
 "nbformat": 4,
 "nbformat_minor": 5
}
