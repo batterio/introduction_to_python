{
 "cells": [
  {
   "cell_type": "markdown",
   "id": "later-mongolia",
   "metadata": {},
   "source": [
    "# Introduction to Coding"
   ]
  },
  {
   "cell_type": "markdown",
   "id": "wrapped-label",
   "metadata": {},
   "source": [
    "### Data Structures"
   ]
  },
  {
   "cell_type": "markdown",
   "id": "continuing-express",
   "metadata": {},
   "source": [
    "#### Lists"
   ]
  },
  {
   "cell_type": "markdown",
   "id": "disturbed-decimal",
   "metadata": {},
   "source": [
    "List is an array that contains objects non necessarily of the same type. The elements of a list are included between two square brackets `[` and `]`"
   ]
  },
  {
   "cell_type": "code",
   "execution_count": null,
   "id": "narrative-cooler",
   "metadata": {},
   "outputs": [],
   "source": [
    "list_1 = [1, 2, 3]"
   ]
  },
  {
   "cell_type": "code",
   "execution_count": null,
   "id": "white-china",
   "metadata": {},
   "outputs": [],
   "source": [
    "list_2 = ['a', 'b', 4]"
   ]
  },
  {
   "cell_type": "code",
   "execution_count": null,
   "id": "legislative-horse",
   "metadata": {},
   "outputs": [],
   "source": [
    "print(list_2)"
   ]
  },
  {
   "cell_type": "code",
   "execution_count": null,
   "id": "realistic-stadium",
   "metadata": {},
   "outputs": [],
   "source": [
    "dir(list_1)"
   ]
  },
  {
   "cell_type": "markdown",
   "id": "conservative-melbourne",
   "metadata": {},
   "source": [
    "You probably already guess how to use `index` and `count`.  \n",
    "Lets explore instead the usage of `append` and `reverse`."
   ]
  },
  {
   "cell_type": "markdown",
   "id": "contemporary-guide",
   "metadata": {},
   "source": [
    "#### How to append an item to a list"
   ]
  },
  {
   "cell_type": "code",
   "execution_count": null,
   "id": "corresponding-bench",
   "metadata": {},
   "outputs": [],
   "source": [
    "help(list_1.append)"
   ]
  },
  {
   "cell_type": "code",
   "execution_count": null,
   "id": "nonprofit-bolivia",
   "metadata": {},
   "outputs": [],
   "source": [
    "list_1"
   ]
  },
  {
   "cell_type": "code",
   "execution_count": null,
   "id": "great-marijuana",
   "metadata": {},
   "outputs": [],
   "source": [
    "list_1.append(4)"
   ]
  },
  {
   "cell_type": "code",
   "execution_count": null,
   "id": "universal-ideal",
   "metadata": {},
   "outputs": [],
   "source": [
    "list_1"
   ]
  },
  {
   "cell_type": "markdown",
   "id": "enclosed-green",
   "metadata": {},
   "source": [
    "#### How to reverse the order of a list"
   ]
  },
  {
   "cell_type": "code",
   "execution_count": null,
   "id": "flying-superintendent",
   "metadata": {},
   "outputs": [],
   "source": [
    "help(list_1.reverse)"
   ]
  },
  {
   "cell_type": "code",
   "execution_count": null,
   "id": "surprising-samuel",
   "metadata": {},
   "outputs": [],
   "source": [
    "list_1"
   ]
  },
  {
   "cell_type": "code",
   "execution_count": null,
   "id": "limiting-firmware",
   "metadata": {},
   "outputs": [],
   "source": [
    "list_1.reverse()"
   ]
  },
  {
   "cell_type": "code",
   "execution_count": null,
   "id": "elect-secretary",
   "metadata": {},
   "outputs": [],
   "source": [
    "list_1"
   ]
  },
  {
   "cell_type": "markdown",
   "id": "portuguese-chair",
   "metadata": {},
   "source": [
    "#### You can create a list from a string with the function `list()`"
   ]
  },
  {
   "cell_type": "code",
   "execution_count": null,
   "id": "declared-aaron",
   "metadata": {},
   "outputs": [],
   "source": [
    "var = \"ACGT\"\n",
    "list_3 = list(var)"
   ]
  },
  {
   "cell_type": "code",
   "execution_count": null,
   "id": "clean-runner",
   "metadata": {},
   "outputs": [],
   "source": [
    "list_3"
   ]
  },
  {
   "cell_type": "markdown",
   "id": "interested-channel",
   "metadata": {},
   "source": [
    "#### You can create a string from a list with the function `join()`"
   ]
  },
  {
   "cell_type": "code",
   "execution_count": null,
   "id": "relevant-struggle",
   "metadata": {},
   "outputs": [],
   "source": [
    "\"\".join(list_3)"
   ]
  },
  {
   "cell_type": "code",
   "execution_count": null,
   "id": "existing-skating",
   "metadata": {},
   "outputs": [],
   "source": [
    "\"-\".join(list_3)"
   ]
  },
  {
   "cell_type": "markdown",
   "id": "written-cookie",
   "metadata": {},
   "source": [
    "#### Dictionaries"
   ]
  },
  {
   "cell_type": "markdown",
   "id": "unavailable-revolution",
   "metadata": {},
   "source": [
    "Dictionary is one of the most useful tools in python. It is an associative array: **{key: value}**.  \n",
    "The elements of a dictionary are included between two curly brackets `{` and `}`. The key and the value of a dictionay are linked by `:`.  "
   ]
  },
  {
   "cell_type": "code",
   "execution_count": null,
   "id": "motivated-couple",
   "metadata": {},
   "outputs": [],
   "source": [
    "dict_1 = {'one': 1, 'two': 2, 'three': 3}"
   ]
  },
  {
   "cell_type": "code",
   "execution_count": null,
   "id": "offensive-involvement",
   "metadata": {},
   "outputs": [],
   "source": [
    "dict_1"
   ]
  },
  {
   "cell_type": "markdown",
   "id": "perfect-procedure",
   "metadata": {},
   "source": [
    "This is how we add a **key, value** items to a dictionary"
   ]
  },
  {
   "cell_type": "code",
   "execution_count": null,
   "id": "connected-trading",
   "metadata": {},
   "outputs": [],
   "source": [
    "dict_1['four'] = 4"
   ]
  },
  {
   "cell_type": "code",
   "execution_count": null,
   "id": "fourth-mandate",
   "metadata": {},
   "outputs": [],
   "source": [
    "dict_1"
   ]
  },
  {
   "cell_type": "markdown",
   "id": "color-russia",
   "metadata": {},
   "source": [
    "This is how we retrieve the **value of a key**:"
   ]
  },
  {
   "cell_type": "code",
   "execution_count": null,
   "id": "coral-prague",
   "metadata": {},
   "outputs": [],
   "source": [
    "dict_1['two']"
   ]
  },
  {
   "cell_type": "markdown",
   "id": "cubic-framework",
   "metadata": {},
   "source": [
    "### Exercise"
   ]
  },
  {
   "cell_type": "markdown",
   "id": "bridal-rochester",
   "metadata": {},
   "source": [
    "Try to write a code than make the **reverse** of this sequence `'ACTCGAACGTGTGTCGTTCGGGATTACG'`\n",
    "\n",
    "Tips:\n",
    "\n",
    "* Assign the sequence to a variable\n",
    "* Create a list with the characters of the sequence\n",
    "* Reverse the list\n",
    "* Create a string by concatenating together the elements of the list with the **`join`** command\n",
    "\n",
    "[![button](../figures/button_solution_small.png)](solutions.ipynb#Data-Structures)"
   ]
  }
 ],
 "metadata": {
  "kernelspec": {
   "display_name": "Python 3 (ipykernel)",
   "language": "python",
   "name": "python3"
  },
  "language_info": {
   "codemirror_mode": {
    "name": "ipython",
    "version": 3
   },
   "file_extension": ".py",
   "mimetype": "text/x-python",
   "name": "python",
   "nbconvert_exporter": "python",
   "pygments_lexer": "ipython3",
   "version": "3.8.10"
  }
 },
 "nbformat": 4,
 "nbformat_minor": 5
}
