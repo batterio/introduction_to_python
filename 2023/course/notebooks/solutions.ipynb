{
 "cells": [
  {
   "cell_type": "markdown",
   "id": "configured-liechtenstein",
   "metadata": {},
   "source": [
    "# Introduction to Coding"
   ]
  },
  {
   "cell_type": "markdown",
   "id": "compound-import",
   "metadata": {},
   "source": [
    "### Basic Syntax"
   ]
  },
  {
   "cell_type": "markdown",
   "id": "posted-discrimination",
   "metadata": {},
   "source": [
    "Lets write a code than calculates the **GC content** of this sequence: `TTgGAagaGcttACTTagC`\n",
    "\n",
    "Tips:\n",
    "\n",
    "* Assign the sequence to a variable\n",
    "* Make all the nucleotides uppercase (or lowercase)\n",
    "* Count the number of 'C' and 'G' and divide it by the length of the sequence"
   ]
  },
  {
   "cell_type": "code",
   "execution_count": null,
   "id": "sunset-cattle",
   "metadata": {
    "tags": []
   },
   "outputs": [],
   "source": [
    "# First we assign the sequence to a variable\n",
    "sequence = \"TTgGAagaGcttACTTagC\"\n",
    "\n",
    "# Next we make all the nucleotides uppercase (or lowercase)\n",
    "sequence = sequence.upper()\n",
    "\n",
    "# Then we count the number of 'C' and 'G' \n",
    "count_C = sequence.count('C')\n",
    "count_G = sequence.count('G')\n",
    "\n",
    "# Finally we calculate the GC content by dividing it by the length of the sequence\n",
    "sequence_length = len(sequence)\n",
    "cg_content = (count_C + count_G) / len(sequence)\n",
    "\n",
    "print(cg_content)"
   ]
  },
  {
   "cell_type": "markdown",
   "id": "important-vietnam",
   "metadata": {},
   "source": [
    "### Data Structures"
   ]
  },
  {
   "cell_type": "markdown",
   "id": "matched-insertion",
   "metadata": {},
   "source": [
    "Try to write a code than make the **reverse** of this sequence `'ACTCGAACGTGTGTCGTTCGGGATTACG'`\n",
    "\n",
    "Tips:\n",
    "\n",
    "* Assign the sequence to a variable\n",
    "* Create a list with the characters of the sequence\n",
    "* Reverse the list\n",
    "* Create a string by concatenating together the elements of the list with the **`join`** command"
   ]
  },
  {
   "cell_type": "code",
   "execution_count": null,
   "id": "noble-newton",
   "metadata": {
    "tags": []
   },
   "outputs": [],
   "source": [
    "# First we assign the sequence to a variable\n",
    "sequence = \"ACTCGAACGTGTGTCGTTCGGGATTACG\"\n",
    "\n",
    "# Next we create a list with the characters of the sequence\n",
    "seq_list = list(sequence)\n",
    "\n",
    "# Then we reverse the list\n",
    "seq_list.reverse()\n",
    "\n",
    "# Finally we concatenate together the elements of the list\n",
    "reversed_sequence = \"\".join(seq_list)\n",
    "\n",
    "print(reversed_sequence)"
   ]
  },
  {
   "cell_type": "markdown",
   "id": "burning-princess",
   "metadata": {},
   "source": [
    "### Flow Control"
   ]
  },
  {
   "cell_type": "markdown",
   "id": "painful-chess",
   "metadata": {},
   "source": [
    "Try to write a code than calculate the **reverse-complement** of the DNA sequence `\"CGACAAGGATTAGTAGTTTAC\"`.\n",
    "\n",
    "Tips:\n",
    "\n",
    "* Assign the sequence to a variable\n",
    "* Create a dictionary where every nucleotide is linked to its complementary base\n",
    "* Create a list with the characters of the sequence\n",
    "* Reverse the list\n",
    "* For each nucleotide recover its complementary base using a `for` loop\n",
    "* Create an empy list and append the complementary bases\n",
    "* Create a string by concatenating together the elements of the list with the **join** command"
   ]
  },
  {
   "cell_type": "code",
   "execution_count": null,
   "id": "preceding-working",
   "metadata": {
    "tags": []
   },
   "outputs": [],
   "source": [
    "# First we assign the sequence to a variable\n",
    "sequence = 'CGACAAGGATTAGTAGTTTAC'\n",
    "\n",
    "# Now we create a dictionary of the nucleotides and their corresponding complementary bases\n",
    "basecomplement = {'A': 'T', 'C': 'G', 'T': 'A', 'G': 'C'}\n",
    "\n",
    "# Next we transform the string in list\n",
    "letters = list(sequence) \n",
    "\n",
    "# then we reverse the order of the list\n",
    "letters.reverse()\n",
    "\n",
    "# This is the list where we will store the complementary sequence\n",
    "dna = []\n",
    "\n",
    "# With a 'for' loop we get every nucleotide of the sequence and we retrieve its complementary base\n",
    "for base in letters:\n",
    "    complement_base = basecomplement[base]\n",
    "    dna.append(complement_base)\n",
    "    \n",
    "# Finally we create a new variable by concatenating together the elements of the list with the join command\n",
    "reverse_complement = \"\".join(dna)\n",
    "\n",
    "print(reverse_complement)"
   ]
  },
  {
   "cell_type": "markdown",
   "id": "cdd97407-2369-4244-8afb-b369f2bbfff7",
   "metadata": {},
   "source": [
    "### Functions"
   ]
  },
  {
   "cell_type": "markdown",
   "id": "f051b525-a9af-49fd-8a3e-23763037d9a7",
   "metadata": {},
   "source": [
    "Try to write a function that calculates the area of a triangle. Remember that the area of a triangle is given by this formula:  \n",
    "    `area = base * height / 2`"
   ]
  },
  {
   "cell_type": "code",
   "execution_count": null,
   "id": "ae76f449-4628-473b-acb4-beecdcf7261c",
   "metadata": {
    "tags": []
   },
   "outputs": [],
   "source": [
    "# The area of a triangle is calculated by this formula: base * height / 2\n",
    "# We create a function called 'area' that accept two arguments: base and height\n",
    "\n",
    "def area(base, height):\n",
    "    \"\"\"This function calculates the area of a triangle.\n",
    "    \n",
    "    :param base: int or float, base of the triangle\n",
    "    :param height: int or float, height of the triangle\n",
    "    :return: float, area of the triangle\n",
    "    \"\"\"\n",
    "    \n",
    "    result = base * height * 0.5\n",
    "    return result"
   ]
  },
  {
   "cell_type": "code",
   "execution_count": null,
   "id": "a883b5dc-68b4-478f-9b42-0986a4ae8936",
   "metadata": {
    "tags": []
   },
   "outputs": [],
   "source": [
    "# We can read the documentation of the function\n",
    "help(area)"
   ]
  },
  {
   "cell_type": "code",
   "execution_count": null,
   "id": "9f4c3c8d-1ab3-485a-a827-3588964a250d",
   "metadata": {
    "tags": []
   },
   "outputs": [],
   "source": [
    "# Now we can use the function with different bases and heights\n",
    "print(area(4, 5))\n",
    "print(area(87, 33))"
   ]
  },
  {
   "cell_type": "markdown",
   "id": "b306a22c-204d-4dfa-ad86-7e677e09c042",
   "metadata": {},
   "source": [
    "### Reading and writing files"
   ]
  },
  {
   "cell_type": "markdown",
   "id": "286754b9-1a01-4169-8392-a9854d293029",
   "metadata": {},
   "source": [
    "Try to write a code that reads the `../data/input.fa` file and writes to an output file only the DNA sequences (without the headers `>` of the sequences)."
   ]
  },
  {
   "cell_type": "markdown",
   "id": "a52f0e15-d669-47d1-b783-9a78eb2e6c6c",
   "metadata": {},
   "source": [
    "#### First version (more verbose)"
   ]
  },
  {
   "cell_type": "code",
   "execution_count": null,
   "id": "99ca9fa1-3c0a-4ab3-bb82-848978899d32",
   "metadata": {
    "tags": []
   },
   "outputs": [],
   "source": [
    "with open('../data/input.fa', 'r') as fd:           # We open the input file\n",
    "    \n",
    "    # We create a list where to store the sequences\n",
    "    sequences = []\n",
    "\n",
    "    # Now we read every single line of the input file and if the\n",
    "    # line is not an header, we store it in a list\n",
    "    for line in fd:\n",
    "        if not line.startswith('>'):            # Same as: line[0] != '>':\n",
    "            sequences.append(line)              # Store the sequence\n",
    "                \n",
    "with open('../data/input.dna', 'w') as out:     # We create the output file\n",
    "    for seq in sequences:                       # Iterate over the sequences\n",
    "        out.write(seq)                          # Write the sequence to the output file"
   ]
  },
  {
   "cell_type": "markdown",
   "id": "fea59127-caa4-4ee7-a579-b902aae5b6c2",
   "metadata": {},
   "source": [
    "#### Second version (more compact)"
   ]
  },
  {
   "cell_type": "code",
   "execution_count": null,
   "id": "4fbe9eb0-8a67-4b00-a1f1-abe6b8b3ee0b",
   "metadata": {
    "tags": []
   },
   "outputs": [],
   "source": [
    "with open('../data/input.fa', 'r') as fd:           # We open the input file\n",
    "    with open('../data/input.dna', 'w') as out:     # We create the output file\n",
    "\n",
    "        # Now we read every single line of the input file and if the\n",
    "        # line is not an header, we write it on the output file.\n",
    "        for line in fd:\n",
    "            if not line.startswith('>'):            # Same as: line[0] != '>':\n",
    "                out.write(line)"
   ]
  },
  {
   "cell_type": "markdown",
   "id": "02142b85-aeff-4182-8a67-897e06173247",
   "metadata": {},
   "source": [
    "#### To check if the script worked file, we can print all the lines of the file we just created"
   ]
  },
  {
   "cell_type": "code",
   "execution_count": null,
   "id": "103b7189-e707-4a1a-80c2-3b108b289dae",
   "metadata": {
    "tags": []
   },
   "outputs": [],
   "source": [
    "# To check if the script worked, we can print all the lines of the file we just created\n",
    "with open('../data/input.dna', 'r') as fd:\n",
    "    for line in fd:\n",
    "        print(line.strip())"
   ]
  },
  {
   "cell_type": "markdown",
   "id": "b6a1b7a2-5df4-4593-931e-1e4681ab2620",
   "metadata": {},
   "source": [
    "### Useful libraries"
   ]
  },
  {
   "cell_type": "markdown",
   "id": "c760fd74-803c-4831-b55d-747295b8f626",
   "metadata": {},
   "source": [
    "Try to plot the nucleotide's content of the first chromosome of the yeast genome. A file with the sequence of the first chromosome is available in in the `data` folder (`../data/yeast_chr1.fa`).  \n",
    "The data have been downloaded from the [SGD archive](http://sgd-archive.yeastgenome.org/sequence/S288C_reference/chromosomes/fasta/)\n",
    "\n",
    "Tips:\n",
    "\n",
    "* Read the fasta file and assign the sequence sequence of the chromosome to a variable\n",
    "* Count the number of A, C, G, and T in the sequence\n",
    "* Define the color of each bar of the plot (optional)\n",
    "* Create the barplot `(the minimal syntax is: plt.bar(x, height). Optionaly you can add the arguments tick_label and colors)`"
   ]
  },
  {
   "cell_type": "markdown",
   "id": "4bbea321-9914-4943-83c4-341530de4e18",
   "metadata": {},
   "source": [
    "#### Import the matplotlib library"
   ]
  },
  {
   "cell_type": "code",
   "execution_count": null,
   "id": "a51a0b29-899b-4058-9557-00b34c5b6096",
   "metadata": {
    "tags": []
   },
   "outputs": [],
   "source": [
    "%matplotlib inline\n",
    "import matplotlib.pyplot as plt"
   ]
  },
  {
   "cell_type": "code",
   "execution_count": null,
   "id": "08fb4be6-033b-4877-9e76-4283a1256ac0",
   "metadata": {
    "tags": []
   },
   "outputs": [],
   "source": [
    "# First read the sequence of the chromosome\n",
    "sequence = \"\"\n",
    "\n",
    "with open('../data/yeast_chr1.fa', 'r') as fd:\n",
    "    for line in fd:\n",
    "        if line.startswith('>'):\n",
    "            continue\n",
    "        sequence += line.upper().strip()\n",
    "        \n",
    "# Next, count the number of A, C, G, and T\n",
    "A = sequence.count('A')\n",
    "C = sequence.count('C')\n",
    "G = sequence.count('G')\n",
    "T = sequence.count('T')\n",
    "\n",
    "# Define colors. The colors are taken from https://colorbrewer2.org/#type=qualitative&scheme=Set2&n=4\n",
    "colors = ['#66c2a5', '#fc8d62', '#8da0cb', '#e78ac3']\n",
    "\n",
    "# Create the plot\n",
    "plt.bar(x=[1, 2, 3, 4], height=[A, C, G, T], tick_label=['A', 'C', 'G', 'T'], color=colors)\n",
    "\n",
    "plt.show()"
   ]
  },
  {
   "cell_type": "markdown",
   "id": "507107a7-8d72-4b3c-99a8-2d85ed257710",
   "metadata": {},
   "source": [
    "### Errors"
   ]
  },
  {
   "cell_type": "markdown",
   "id": "ce0b75a7-eb58-46ec-a1bd-c86595fecb25",
   "metadata": {},
   "source": [
    "The script doesn't generate any exception, but if you check the gene `SEF1` in the result file you will find that there is something wrong:  \n",
    "the start position of the gene is bigger than the stop position of the gene, but its strand is positive (`+`).  \n",
    "This happened because we forgot to convert the positions in integers and python considered them strings (by default whatever it is read from a file is a string).  \n",
    "\n",
    "These line:\n",
    "```\n",
    "    if start_position < stop_position:\n",
    "```\n",
    "\n",
    "Should be instead:\n",
    "```\n",
    "    if int(start_position) < int(stop_position):\n",
    "```  \n",
    "\n",
    "If you execute now the script you will get another error (`TypeError`) that says:\n",
    "\n",
    "```\n",
    "...\n",
    "     15             stop_position = line[3]  \n",
    "     16 \n",
    "---> 17             if int(start_position) < int(stop_position): \n",
    "     18                 strand = \"+\"\n",
    "     19             else:\n",
    "\n",
    "TypeError: 'int' object is not callable\n",
    "```  \n",
    "\n",
    "Can you figure out what's wrong?  \n",
    "  \n",
    "The correct version of the script is the following: "
   ]
  },
  {
   "cell_type": "code",
   "execution_count": null,
   "id": "a20c8232-67dc-418f-8a63-6ab24ab8a2e2",
   "metadata": {
    "tags": []
   },
   "outputs": [],
   "source": [
    "with open('../data/yeast_genes_chrom2.txt', 'r') as fd:                        # Open the input file\n",
    "    with open('../data/yeast_genes_chrom2_strand.txt', 'w') as out:            # Create the output file\n",
    "        \n",
    "        for line in fd:                                                        # Read the input file line by line\n",
    "            \n",
    "            if line.startswith('Gene_name'):                                   # First line of the file\n",
    "                out.write(line.strip() + '\\tStrand\\n')                         # Write the header of the output file\n",
    "                continue\n",
    "                \n",
    "            line = line.strip().split('\\t')                                    # Remove the newline and split the line by the tab\n",
    "            start_position = line[2]                                           # Create a variable with the start position \n",
    "            stop_position = line[3]                                            # Create a variable with the stop position \n",
    "             \n",
    "            if int(start_position) < int(stop_position):                       # Determine the strand by comparing the start and the stop positions\n",
    "                strand = \"+\"\n",
    "            else:\n",
    "                strand = \"-\"\n",
    "                \n",
    "            line.append(strand)                                                # Add the strand to the list\n",
    "            out.write('\\t'.join(line) + '\\n')                                  # Write to the output file"
   ]
  },
  {
   "cell_type": "markdown",
   "id": "13eadd5a-6034-4662-b2ea-d1e1344827b9",
   "metadata": {},
   "source": [
    "### Classes"
   ]
  },
  {
   "cell_type": "markdown",
   "id": "5f8557e0-ee36-4116-b457-dc9a3dd0b459",
   "metadata": {},
   "source": [
    "#### Exercise 1"
   ]
  },
  {
   "cell_type": "markdown",
   "id": "83dbdfc9-56b7-47a4-a9f5-7cde8317213d",
   "metadata": {},
   "source": [
    "Write a class `Person` with the following `attributes`:\n",
    "* **name**: name of the person (for instance 'Kate')\n",
    "* **surname**: surname of te person (for instance 'Parson')\n",
    "* **year_of_birth**: year this person was born (for instance 1984)\n",
    "    \n",
    "and the following `method`:\n",
    "* **age**: function that calculates how old is this person"
   ]
  },
  {
   "cell_type": "code",
   "execution_count": null,
   "id": "bd6a0f9f-7912-42ec-8903-c23b5f659119",
   "metadata": {
    "tags": []
   },
   "outputs": [],
   "source": [
    "class Person:\n",
    "    \n",
    "    def __init__(self, name, surname, year_of_birth):\n",
    "        \"\"\"Initializes the Person class\"\"\"\n",
    "\n",
    "        self.name = name\n",
    "        self.surname = surname\n",
    "        self.year_of_birth= year_of_birth\n",
    "        self.current_year = 2019\n",
    "        \n",
    "    def age(self):\n",
    "        \"\"\"Calculates the age pf the person\"\"\"\n",
    "        \n",
    "        return self.current_year - self.year_of_birth"
   ]
  },
  {
   "cell_type": "code",
   "execution_count": null,
   "id": "b7637453-3066-4b95-b864-c868417ff387",
   "metadata": {
    "tags": []
   },
   "outputs": [],
   "source": [
    "john = Person(name='John', surname='Handcock', year_of_birth=1964)"
   ]
  },
  {
   "cell_type": "code",
   "execution_count": null,
   "id": "55296a4b-ef04-4905-a3bd-7f20eb4b6fc0",
   "metadata": {
    "tags": []
   },
   "outputs": [],
   "source": [
    "john.age()"
   ]
  },
  {
   "cell_type": "markdown",
   "id": "49a615f4-1fff-48ff-b977-e26417b7a375",
   "metadata": {},
   "source": [
    "#### Exercise 2"
   ]
  },
  {
   "cell_type": "markdown",
   "id": "706a6c6f-73e0-4d0c-b582-20c43bf2c57f",
   "metadata": {},
   "source": [
    "Try to organize these `functions` in a class called `DNA`  \n",
    "  \n",
    "  \n",
    "```\n",
    "def calculate_GC_content(sequence):\n",
    "    \"\"\"Calculates the GC content of a DNA sequence\"\"\"\n",
    "    \n",
    "    gc = (sequence.upper().count('G') + sequence.upper().count('C'))\n",
    "    return gc / len(sequence)\n",
    "\n",
    "\n",
    "def reverse(sequence):\n",
    "    \"\"\"Inverts the order of the bases in a DNA sequence\"\"\"\n",
    "    \n",
    "    seq = list(sequence)\n",
    "    seq.reverse()\n",
    "    return ''.join(seq)\n",
    "\n",
    "\n",
    "def complement(sequence):\n",
    "    \"\"\"Substitutes each nucleotide of a sequence with its complement\"\"\"\n",
    "    \n",
    "    bases = {'A': \"T\", \"T\": \"A\", \"C\": \"G\", \"G\": \"C\", \"N\": \"N\"}\n",
    "    return ''.join([bases[b.upper()] for b in sequence])\n",
    "\n",
    "\n",
    "def reverse_complement(sequence):\n",
    "    \"\"\"Makes the reverse complement of a sequence of DNA\"\"\"\n",
    "    \n",
    "    return complement(reverse(sequence))\n",
    "```"
   ]
  },
  {
   "cell_type": "code",
   "execution_count": null,
   "id": "b6b1b44e-1d03-4083-a7bf-32a45e4835ba",
   "metadata": {
    "tags": []
   },
   "outputs": [],
   "source": [
    "class DNA:\n",
    "    \n",
    "    def __init__(self, sequence):\n",
    "        \"\"\"Initializes the DNA class\"\"\"\n",
    "        \n",
    "        self.sequence = sequence\n",
    "        \n",
    "    def calculate_GC_content(self):\n",
    "        \"\"\"Calculates the GC content of a DNA sequence\"\"\"\n",
    "\n",
    "        gc = (self.sequence.upper().count('G') + self.sequence.upper().count('C'))\n",
    "        return gc / len(self.sequence)\n",
    "\n",
    "\n",
    "    def reverse(self):\n",
    "        \"\"\"Inverts the order of the bases in a DNA sequence\"\"\"\n",
    "\n",
    "        seq = list(self.sequence)\n",
    "        seq.reverse()\n",
    "        return ''.join(seq)\n",
    "\n",
    "\n",
    "    def complement(self, sequence=None):\n",
    "        \"\"\"Substitutes each nucleotide of a sequence with its complement\"\"\"\n",
    "\n",
    "        if sequence is None:\n",
    "            sequence = self.sequence\n",
    "        bases = {'A': \"T\", \"T\": \"A\", \"C\": \"G\", \"G\": \"C\", \"N\": \"N\"}\n",
    "        return ''.join([bases[b.upper()] for b in sequence])\n",
    "\n",
    "\n",
    "    def reverse_complement(self):\n",
    "        \"\"\"Makes the reverse complement of a sequence of DNA\"\"\"\n",
    "\n",
    "        return self.complement(self.reverse())"
   ]
  },
  {
   "cell_type": "code",
   "execution_count": null,
   "id": "d1204510-c4ae-478e-b0a2-d874f7ca34bc",
   "metadata": {
    "tags": []
   },
   "outputs": [],
   "source": [
    "dna = DNA('agtgcgtgaaccc')"
   ]
  },
  {
   "cell_type": "code",
   "execution_count": null,
   "id": "898b4b94-8b01-4708-8c5d-9d9cd46ba51c",
   "metadata": {
    "tags": []
   },
   "outputs": [],
   "source": [
    "dna.calculate_GC_content()"
   ]
  },
  {
   "cell_type": "code",
   "execution_count": null,
   "id": "7423d4ba-7667-4828-8d09-da84399b4562",
   "metadata": {
    "tags": []
   },
   "outputs": [],
   "source": [
    "dna.reverse()"
   ]
  },
  {
   "cell_type": "code",
   "execution_count": null,
   "id": "77f2b2fc-d104-41b2-a71c-ae0a721f8658",
   "metadata": {
    "tags": []
   },
   "outputs": [],
   "source": [
    "dna.complement()"
   ]
  },
  {
   "cell_type": "code",
   "execution_count": null,
   "id": "02d598b9-0aa7-4070-b52e-96bf12f595a6",
   "metadata": {
    "tags": []
   },
   "outputs": [],
   "source": [
    "dna.reverse_complement()"
   ]
  }
 ],
 "metadata": {
  "kernelspec": {
   "display_name": "Python 3 (ipykernel)",
   "language": "python",
   "name": "python3"
  },
  "language_info": {
   "codemirror_mode": {
    "name": "ipython",
    "version": 3
   },
   "file_extension": ".py",
   "mimetype": "text/x-python",
   "name": "python",
   "nbconvert_exporter": "python",
   "pygments_lexer": "ipython3",
   "version": "3.10.6"
  }
 },
 "nbformat": 4,
 "nbformat_minor": 5
}
