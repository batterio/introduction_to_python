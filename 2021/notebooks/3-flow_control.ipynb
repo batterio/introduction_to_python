{
 "cells": [
  {
   "cell_type": "markdown",
   "id": "consecutive-hamilton",
   "metadata": {},
   "source": [
    "# Introduction to Coding"
   ]
  },
  {
   "cell_type": "markdown",
   "id": "classical-tourist",
   "metadata": {},
   "source": [
    "### if ... elif ... else"
   ]
  },
  {
   "cell_type": "markdown",
   "id": "measured-builder",
   "metadata": {},
   "source": [
    "Python supports the `if`, `else` and `elif` statements for conditional execution of code.  \n",
    "The construct `if - elif - else` executes an operation only if a condition is satisfied."
   ]
  },
  {
   "cell_type": "code",
   "execution_count": null,
   "id": "armed-delay",
   "metadata": {},
   "outputs": [],
   "source": [
    "number = 7\n",
    "\n",
    "if number < 10:\n",
    "    print(\"small\")\n",
    "else:\n",
    "    print(\"big\")"
   ]
  },
  {
   "cell_type": "markdown",
   "id": "disabled-sheffield",
   "metadata": {},
   "source": [
    "You can also have more than one conditions"
   ]
  },
  {
   "cell_type": "code",
   "execution_count": null,
   "id": "greater-marketing",
   "metadata": {},
   "outputs": [],
   "source": [
    "# Example: How high is the GC content?\n",
    "GC_content = 0.61\n",
    "    \n",
    "if GC_content < 0.4:\n",
    "    print(\"Low GC content\")\n",
    "elif GC_content > 0.65:\n",
    "    print(\"High GC content\")\n",
    "else:\n",
    "    print(\"Medium GC content\")"
   ]
  },
  {
   "cell_type": "markdown",
   "id": "modern-powder",
   "metadata": {},
   "source": [
    "### While loop"
   ]
  },
  {
   "cell_type": "markdown",
   "id": "given-portrait",
   "metadata": {},
   "source": [
    "Python supports the `while` statement for conditional looping.  \n",
    "The construct while executes an operation until a condition is satisfied."
   ]
  },
  {
   "cell_type": "code",
   "execution_count": null,
   "id": "prompt-phenomenon",
   "metadata": {},
   "outputs": [],
   "source": [
    "number = 0\n",
    "\n",
    "while number < 5:\n",
    "    print(number)\n",
    "    number += 1  # equal to number = number + 1"
   ]
  },
  {
   "cell_type": "code",
   "execution_count": null,
   "id": "overall-engagement",
   "metadata": {},
   "outputs": [],
   "source": [
    "print(number)"
   ]
  },
  {
   "cell_type": "markdown",
   "id": "conventional-subscription",
   "metadata": {},
   "source": [
    "**WARNING**: with a bad `while` construct you could end up with a **never ending loop**"
   ]
  },
  {
   "cell_type": "markdown",
   "id": "parliamentary-apollo",
   "metadata": {},
   "source": [
    "### For loop"
   ]
  },
  {
   "cell_type": "markdown",
   "id": "inclusive-ethnic",
   "metadata": {},
   "source": [
    "Python also supports the `for` statement for sequencial looping.  \n",
    "The construct `for` executes an operation for **all the members of a list** (or string, etc.)."
   ]
  },
  {
   "cell_type": "code",
   "execution_count": null,
   "id": "close-product",
   "metadata": {},
   "outputs": [],
   "source": [
    "# Loops over a list of numbers\n",
    "numbers = [0, 1, 2]\n",
    "for i in numbers:\n",
    "    print(i)"
   ]
  },
  {
   "cell_type": "code",
   "execution_count": null,
   "id": "primary-forth",
   "metadata": {},
   "outputs": [],
   "source": [
    "# Loops over a string\n",
    "sequence = 'ATG'\n",
    "for i in sequence:\n",
    "    print(i)"
   ]
  },
  {
   "cell_type": "markdown",
   "id": "cordless-sector",
   "metadata": {},
   "source": [
    "### Exercise"
   ]
  },
  {
   "cell_type": "markdown",
   "id": "convertible-keeping",
   "metadata": {},
   "source": [
    "Try to write a code than calculate the **reverse-complement** of the DNA sequence `\"CGACAAGGATTAGTAGTTTAC\"`.\n",
    "\n",
    "Tips:\n",
    "\n",
    "* Assign the sequence to a variable\n",
    "* Create a dictionary where every nucleotide is linked to its complementary base\n",
    "* Create a list with the characters of the sequence\n",
    "* Reverse the list\n",
    "* For each nucleotide recover its complementary base using a `for` loop\n",
    "* Create an empy list and append the complementary bases\n",
    "* Create a string by concatenating together the elements of the list with the **join** command"
   ]
  },
  {
   "cell_type": "code",
   "execution_count": null,
   "id": "distinct-island",
   "metadata": {},
   "outputs": [],
   "source": [
    "# First we assign the sequence to a variable\n",
    "sequence = 'CGACAAGGATTAGTAGTTTAC'\n",
    "\n",
    "# Now we create a dictionary of the nucleotides and their corresponding complementary bases\n",
    "basecomplement = {'A': 'T', 'C': 'G', 'T': 'A', 'G': 'C'}\n",
    "\n",
    "# Next we transform the string in list\n",
    "letters = list(sequence) \n",
    "\n",
    "# then we reverse the order of the list\n",
    "letters.reverse()\n",
    "\n",
    "# This is the list where we will store the complementary sequence\n",
    "dna = []\n",
    "\n",
    "# With a 'for' loop we get every nucleotide of the sequence and we retrieve its complementary base\n",
    "for base in letters:\n",
    "    complement_base = basecomplement[base]\n",
    "    dna.append(complement_base)\n",
    "    \n",
    "# Finally we create a new variable by concatenating together the elements of the list with the join command\n",
    "reverse_complement = \"\".join(dna)\n",
    "\n",
    "print(reverse_complement)"
   ]
  }
 ],
 "metadata": {
  "kernelspec": {
   "display_name": "Python 3",
   "language": "python",
   "name": "python3"
  },
  "language_info": {
   "codemirror_mode": {
    "name": "ipython",
    "version": 3
   },
   "file_extension": ".py",
   "mimetype": "text/x-python",
   "name": "python",
   "nbconvert_exporter": "python",
   "pygments_lexer": "ipython3",
   "version": "3.8.5"
  }
 },
 "nbformat": 4,
 "nbformat_minor": 5
}
