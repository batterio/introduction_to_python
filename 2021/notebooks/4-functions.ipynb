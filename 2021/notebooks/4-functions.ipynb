{
 "cells": [
  {
   "cell_type": "markdown",
   "id": "embedded-vulnerability",
   "metadata": {},
   "source": [
    "# Introduction to Coding"
   ]
  },
  {
   "cell_type": "markdown",
   "id": "anticipated-original",
   "metadata": {},
   "source": [
    "### Functions"
   ]
  },
  {
   "cell_type": "markdown",
   "id": "separate-float",
   "metadata": {},
   "source": [
    "In the previous exercise we wrote few useful lines of code. However every time we want to use that code, we need to rewrite it from scratch or copy-paste it somewhere else.  \n",
    "This is **error prone**. It would be much better to be able to reuse the code without rewrite it!  \n",
    "\n",
    "This is where `functions` come into play. When we want to use a piece of code several time, we can encapsulate it in a function. In few words a function is a block of instructions that can be used several times.  \n",
    "\n",
    "Functions are defined by the instruction `def` and the parameters passed to the function are included between two brackets `(` and `)`. The result of the function is returned with the `return` command."
   ]
  },
  {
   "cell_type": "markdown",
   "id": "macro-sheriff",
   "metadata": {},
   "source": [
    "#### Previous code"
   ]
  },
  {
   "cell_type": "code",
   "execution_count": null,
   "id": "accurate-replacement",
   "metadata": {},
   "outputs": [],
   "source": [
    "# First we assign the sequence to a variable\n",
    "sequence = 'CGACAAGGATTAGTAGTTTAC'\n",
    "\n",
    "# Now we create a dictionary of the nucleotides and their corresponding complementary bases\n",
    "basecomplement = {'A': 'T', 'C': 'G', 'T': 'A', 'G': 'C'}\n",
    "\n",
    "# Next we transform the string in list\n",
    "letters = list(sequence) \n",
    "\n",
    "# then we reverse the order of the list\n",
    "letters.reverse()\n",
    "\n",
    "# This is the list where we will store the complementary sequence\n",
    "dna = []\n",
    "\n",
    "# With a 'for' loop we get every nucleotide of the sequence and we retrieve its complementary base\n",
    "for base in letters:\n",
    "    complement_base = basecomplement[base]\n",
    "    dna.append(complement_base)\n",
    "    \n",
    "# Finally we create a new variable by concatenating together the elements of the list with the join command\n",
    "reverse_complement = \"\".join(dna)\n",
    "\n",
    "print(reverse_complement)"
   ]
  },
  {
   "cell_type": "markdown",
   "id": "regular-score",
   "metadata": {},
   "source": [
    "#### Same code but implemented as a function"
   ]
  },
  {
   "cell_type": "code",
   "execution_count": null,
   "id": "changed-liberia",
   "metadata": {},
   "outputs": [],
   "source": [
    "def reverse_complement(sequence):\n",
    "\n",
    "    # Dictionary of the nucleotides and their corresponding complementary bases\n",
    "    basecomplement = {'A': 'T', 'C': 'G', 'T': 'A', 'G': 'C'}\n",
    "\n",
    "    letters = list(sequence) \n",
    "    letters.reverse()\n",
    "\n",
    "    dna = []\n",
    "    for base in letters:\n",
    "        complement_base = basecomplement[base]\n",
    "        dna.append(complement_base)\n",
    "\n",
    "    reverse_complement = \"\".join(dna)\n",
    "\n",
    "    return reverse_complement"
   ]
  },
  {
   "cell_type": "code",
   "execution_count": null,
   "id": "crazy-surname",
   "metadata": {},
   "outputs": [],
   "source": [
    "reverse_complement('CGACAAGGATTAGTAGTTTAC')"
   ]
  },
  {
   "cell_type": "code",
   "execution_count": null,
   "id": "initial-population",
   "metadata": {},
   "outputs": [],
   "source": [
    "reverse_complement('ACTG')"
   ]
  }
 ],
 "metadata": {
  "kernelspec": {
   "display_name": "Python 3",
   "language": "python",
   "name": "python3"
  },
  "language_info": {
   "codemirror_mode": {
    "name": "ipython",
    "version": 3
   },
   "file_extension": ".py",
   "mimetype": "text/x-python",
   "name": "python",
   "nbconvert_exporter": "python",
   "pygments_lexer": "ipython3",
   "version": "3.8.5"
  }
 },
 "nbformat": 4,
 "nbformat_minor": 5
}
