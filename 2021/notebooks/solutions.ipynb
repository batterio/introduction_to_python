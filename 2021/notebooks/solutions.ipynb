{
 "cells": [
  {
   "cell_type": "markdown",
   "id": "configured-liechtenstein",
   "metadata": {},
   "source": [
    "# Introduction to Coding"
   ]
  },
  {
   "cell_type": "markdown",
   "id": "compound-import",
   "metadata": {},
   "source": [
    "### Basic Syntax"
   ]
  },
  {
   "cell_type": "markdown",
   "id": "posted-discrimination",
   "metadata": {},
   "source": [
    "Lets write a code than calculates the **GC content** of this sequence: `TTgGAagaGcttACTTagC`\n",
    "\n",
    "Tips:\n",
    "\n",
    "* Assign the sequence to a variable\n",
    "* Make all the nucleotides uppercase (or lowercase)\n",
    "* Count the number of 'C' and 'G' and divide it by the length of the sequence"
   ]
  },
  {
   "cell_type": "code",
   "execution_count": null,
   "id": "sunset-cattle",
   "metadata": {},
   "outputs": [],
   "source": [
    "# First we assign the sequence to a variable\n",
    "sequence = \"TTgGAagaGcttACTTagC\"\n",
    "\n",
    "# Next we make all the nucleotides uppercase (or lowercase)\n",
    "sequence = sequence.upper()\n",
    "\n",
    "# Then we count the number of 'C' and 'G' \n",
    "count_C = sequence.count('C')\n",
    "count_G = sequence.count('G')\n",
    "\n",
    "# Finally we calculate the GC content by dividing it by the length of the sequence\n",
    "sequence_length = len(sequence)\n",
    "cg_content = (count_C + count_G) / len(sequence)\n",
    "\n",
    "print(cg_content)"
   ]
  },
  {
   "cell_type": "markdown",
   "id": "important-vietnam",
   "metadata": {},
   "source": [
    "### Data Structures"
   ]
  },
  {
   "cell_type": "markdown",
   "id": "matched-insertion",
   "metadata": {},
   "source": [
    "Try to write a code than make the **reverse** of this sequence `'ACTCGAACGTGTGTCGTTCGGGATTACG'`\n",
    "\n",
    "Tips:\n",
    "\n",
    "* Assign the sequence to a variable\n",
    "* Create a list with the characters of the sequence\n",
    "* Reverse the list\n",
    "* Create a string by concatenating together the elements of the list with the **`join`** command"
   ]
  },
  {
   "cell_type": "code",
   "execution_count": null,
   "id": "noble-newton",
   "metadata": {},
   "outputs": [],
   "source": [
    "# First we assign the sequence to a variable\n",
    "sequence = \"ACTCGAACGTGTGTCGTTCGGGATTACG\"\n",
    "\n",
    "# Next we create a list with the characters of the sequence\n",
    "seq_list = list(sequence)\n",
    "\n",
    "# Then we reverse the list\n",
    "seq_list.reverse()\n",
    "\n",
    "# Finally we concatenate together the elements of the list\n",
    "reversed_sequence = \"\".join(seq_list)\n",
    "\n",
    "print(reversed_sequence)"
   ]
  },
  {
   "cell_type": "markdown",
   "id": "burning-princess",
   "metadata": {},
   "source": [
    "### Flow Control"
   ]
  },
  {
   "cell_type": "markdown",
   "id": "painful-chess",
   "metadata": {},
   "source": [
    "Try to write a code than calculate the **reverse-complement** of the DNA sequence `\"CGACAAGGATTAGTAGTTTAC\"`.\n",
    "\n",
    "Tips:\n",
    "\n",
    "* Assign the sequence to a variable\n",
    "* Create a dictionary where every nucleotide is linked to its complementary base\n",
    "* Create a list with the characters of the sequence\n",
    "* Reverse the list\n",
    "* For each nucleotide recover its complementary base using a `for` loop\n",
    "* Create an empy list and append the complementary bases\n",
    "* Create a string by concatenating together the elements of the list with the **join** command"
   ]
  },
  {
   "cell_type": "code",
   "execution_count": null,
   "id": "preceding-working",
   "metadata": {},
   "outputs": [],
   "source": [
    "# First we assign the sequence to a variable\n",
    "sequence = 'CGACAAGGATTAGTAGTTTAC'\n",
    "\n",
    "# Now we create a dictionary of the nucleotides and their corresponding complementary bases\n",
    "basecomplement = {'A': 'T', 'C': 'G', 'T': 'A', 'G': 'C'}\n",
    "\n",
    "# Next we transform the string in list\n",
    "letters = list(sequence) \n",
    "\n",
    "# then we reverse the order of the list\n",
    "letters.reverse()\n",
    "\n",
    "# This is the list where we will store the complementary sequence\n",
    "dna = []\n",
    "\n",
    "# With a 'for' loop we get every nucleotide of the sequence and we retrieve its complementary base\n",
    "for base in letters:\n",
    "    complement_base = basecomplement[base]\n",
    "    dna.append(complement_base)\n",
    "    \n",
    "# Finally we create a new variable by concatenating together the elements of the list with the join command\n",
    "reverse_complement = \"\".join(dna)\n",
    "\n",
    "print(reverse_complement)"
   ]
  }
 ],
 "metadata": {
  "kernelspec": {
   "display_name": "Python 3",
   "language": "python",
   "name": "python3"
  },
  "language_info": {
   "codemirror_mode": {
    "name": "ipython",
    "version": 3
   },
   "file_extension": ".py",
   "mimetype": "text/x-python",
   "name": "python",
   "nbconvert_exporter": "python",
   "pygments_lexer": "ipython3",
   "version": "3.8.5"
  }
 },
 "nbformat": 4,
 "nbformat_minor": 5
}
