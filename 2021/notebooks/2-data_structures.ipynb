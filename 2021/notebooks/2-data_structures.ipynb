{
 "cells": [
  {
   "cell_type": "markdown",
   "id": "leading-prior",
   "metadata": {},
   "source": [
    "# Introduction to Coding"
   ]
  },
  {
   "cell_type": "markdown",
   "id": "equipped-broadcast",
   "metadata": {},
   "source": [
    "### Data Structures"
   ]
  },
  {
   "cell_type": "markdown",
   "id": "taken-dominant",
   "metadata": {},
   "source": [
    "#### Lists"
   ]
  },
  {
   "cell_type": "markdown",
   "id": "functioning-object",
   "metadata": {},
   "source": [
    "List is an array that contains objects non necessarily of the same type. The elements of a list are included between two square brackets `[` and `]`"
   ]
  },
  {
   "cell_type": "code",
   "execution_count": null,
   "id": "according-peace",
   "metadata": {},
   "outputs": [],
   "source": [
    "list_1 = [1, 2, 3]"
   ]
  },
  {
   "cell_type": "code",
   "execution_count": null,
   "id": "played-mainstream",
   "metadata": {},
   "outputs": [],
   "source": [
    "list_2 = ['a', 'b', 4]"
   ]
  },
  {
   "cell_type": "code",
   "execution_count": null,
   "id": "unsigned-concert",
   "metadata": {},
   "outputs": [],
   "source": [
    "print(list_2)"
   ]
  },
  {
   "cell_type": "code",
   "execution_count": null,
   "id": "elder-success",
   "metadata": {},
   "outputs": [],
   "source": [
    "dir(list_1)"
   ]
  },
  {
   "cell_type": "markdown",
   "id": "attempted-amendment",
   "metadata": {},
   "source": [
    "You probably already guess how to use `index` and `count`.  \n",
    "Lets explore instead the usage of `append` and `reverse`."
   ]
  },
  {
   "cell_type": "markdown",
   "id": "norwegian-picnic",
   "metadata": {},
   "source": [
    "#### How to append an item to a list"
   ]
  },
  {
   "cell_type": "code",
   "execution_count": null,
   "id": "handmade-weekend",
   "metadata": {},
   "outputs": [],
   "source": [
    "help(list_1.append)"
   ]
  },
  {
   "cell_type": "code",
   "execution_count": null,
   "id": "little-cradle",
   "metadata": {},
   "outputs": [],
   "source": [
    "list_1"
   ]
  },
  {
   "cell_type": "code",
   "execution_count": null,
   "id": "marine-andrews",
   "metadata": {},
   "outputs": [],
   "source": [
    "list_1.append(4)"
   ]
  },
  {
   "cell_type": "code",
   "execution_count": null,
   "id": "daily-dutch",
   "metadata": {},
   "outputs": [],
   "source": [
    "list_1"
   ]
  },
  {
   "cell_type": "markdown",
   "id": "wound-neutral",
   "metadata": {},
   "source": [
    "#### How to reverse the order of a list"
   ]
  },
  {
   "cell_type": "code",
   "execution_count": null,
   "id": "welcome-christmas",
   "metadata": {},
   "outputs": [],
   "source": [
    "help(list_1.reverse)"
   ]
  },
  {
   "cell_type": "code",
   "execution_count": null,
   "id": "responsible-checklist",
   "metadata": {},
   "outputs": [],
   "source": [
    "list_1"
   ]
  },
  {
   "cell_type": "code",
   "execution_count": null,
   "id": "representative-matrix",
   "metadata": {},
   "outputs": [],
   "source": [
    "list_1.reverse()"
   ]
  },
  {
   "cell_type": "code",
   "execution_count": null,
   "id": "marine-adult",
   "metadata": {},
   "outputs": [],
   "source": [
    "list_1"
   ]
  },
  {
   "cell_type": "markdown",
   "id": "august-shanghai",
   "metadata": {},
   "source": [
    "#### You can create a list from a string with the function `list()`"
   ]
  },
  {
   "cell_type": "code",
   "execution_count": null,
   "id": "automated-mobility",
   "metadata": {},
   "outputs": [],
   "source": [
    "var = \"ACGT\"\n",
    "list_3 = list(var)"
   ]
  },
  {
   "cell_type": "code",
   "execution_count": null,
   "id": "together-liverpool",
   "metadata": {},
   "outputs": [],
   "source": [
    "list_3"
   ]
  },
  {
   "cell_type": "markdown",
   "id": "wooden-victoria",
   "metadata": {},
   "source": [
    "#### You can create a string from a list with the function `join()`"
   ]
  },
  {
   "cell_type": "code",
   "execution_count": null,
   "id": "returning-ebony",
   "metadata": {},
   "outputs": [],
   "source": [
    "\"\".join(list_3)"
   ]
  },
  {
   "cell_type": "code",
   "execution_count": null,
   "id": "split-dressing",
   "metadata": {},
   "outputs": [],
   "source": [
    "\"-\".join(list_3)"
   ]
  },
  {
   "cell_type": "markdown",
   "id": "legitimate-ideal",
   "metadata": {},
   "source": [
    "#### Dictionaries"
   ]
  },
  {
   "cell_type": "markdown",
   "id": "committed-doctor",
   "metadata": {},
   "source": [
    "Dictionary is one of the most useful tools in python. It is an associative array: **{key: value}**.  \n",
    "The elements of a dictionary are included between two curly brackets `{` and `}`. The key and the value of a dictionay are linked by `:`.  "
   ]
  },
  {
   "cell_type": "code",
   "execution_count": null,
   "id": "convertible-happiness",
   "metadata": {},
   "outputs": [],
   "source": [
    "dict_1 = {'one': 1, 'two': 2, 'three': 3}"
   ]
  },
  {
   "cell_type": "code",
   "execution_count": null,
   "id": "exterior-disaster",
   "metadata": {},
   "outputs": [],
   "source": [
    "dict_1"
   ]
  },
  {
   "cell_type": "markdown",
   "id": "local-petite",
   "metadata": {},
   "source": [
    "This is how we add a **key, value** items to a dictionary"
   ]
  },
  {
   "cell_type": "code",
   "execution_count": null,
   "id": "instant-blond",
   "metadata": {},
   "outputs": [],
   "source": [
    "dict_1['four'] = 4"
   ]
  },
  {
   "cell_type": "code",
   "execution_count": null,
   "id": "searching-spring",
   "metadata": {},
   "outputs": [],
   "source": [
    "dict_1"
   ]
  },
  {
   "cell_type": "markdown",
   "id": "ordinary-pipeline",
   "metadata": {},
   "source": [
    "This is how we retrieve the **value of a key**:"
   ]
  },
  {
   "cell_type": "code",
   "execution_count": null,
   "id": "surprising-courage",
   "metadata": {},
   "outputs": [],
   "source": [
    "dict_1['two']"
   ]
  },
  {
   "cell_type": "markdown",
   "id": "funky-picnic",
   "metadata": {},
   "source": [
    "### Exercise"
   ]
  },
  {
   "cell_type": "markdown",
   "id": "valuable-target",
   "metadata": {},
   "source": [
    "Try to write a code than make the **reverse** of this sequence `'ACTCGAACGTGTGTCGTTCGGGATTACG'`\n",
    "\n",
    "Tips:\n",
    "\n",
    "* Assign the sequence to a variable\n",
    "* Create a list with the characters of the sequence\n",
    "* Reverse the list\n",
    "* Create a string by concatenating together the elements of the list with the **`join`** command"
   ]
  },
  {
   "cell_type": "code",
   "execution_count": null,
   "id": "meaning-fighter",
   "metadata": {},
   "outputs": [],
   "source": [
    "# First we assign the sequence to a variable\n",
    "sequence = \"ACTCGAACGTGTGTCGTTCGGGATTACG\"\n",
    "\n",
    "# Next we create a list with the characters of the sequence\n",
    "seq_list = list(sequence)\n",
    "\n",
    "# Then we reverse the list\n",
    "seq_list.reverse()\n",
    "\n",
    "# Finally we concatenate together the elements of the list\n",
    "reversed_sequence = \"\".join(seq_list)\n",
    "\n",
    "print(reversed_sequence)"
   ]
  }
 ],
 "metadata": {
  "kernelspec": {
   "display_name": "Python 3",
   "language": "python",
   "name": "python3"
  },
  "language_info": {
   "codemirror_mode": {
    "name": "ipython",
    "version": 3
   },
   "file_extension": ".py",
   "mimetype": "text/x-python",
   "name": "python",
   "nbconvert_exporter": "python",
   "pygments_lexer": "ipython3",
   "version": "3.8.5"
  }
 },
 "nbformat": 4,
 "nbformat_minor": 5
}
