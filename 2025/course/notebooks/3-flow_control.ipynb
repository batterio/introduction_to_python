{
 "cells": [
  {
   "cell_type": "markdown",
   "id": "processed-diagnosis",
   "metadata": {},
   "source": [
    "# Introduction to Coding"
   ]
  },
  {
   "cell_type": "markdown",
   "id": "every-orchestra",
   "metadata": {},
   "source": [
    "### if ... elif ... else"
   ]
  },
  {
   "cell_type": "markdown",
   "id": "tribal-belgium",
   "metadata": {},
   "source": [
    "Python supports the `if`, `else` and `elif` statements for conditional execution of code.  \n",
    "The construct `if - elif - else` executes an operation only if a condition is satisfied."
   ]
  },
  {
   "cell_type": "code",
   "execution_count": null,
   "id": "actual-citizen",
   "metadata": {
    "tags": []
   },
   "outputs": [],
   "source": [
    "number = 7\n",
    "\n",
    "if number < 10:\n",
    "    print(\"small\")\n",
    "else:\n",
    "    print(\"big\")"
   ]
  },
  {
   "cell_type": "markdown",
   "id": "compressed-aviation",
   "metadata": {},
   "source": [
    "You can also have more than one conditions"
   ]
  },
  {
   "cell_type": "code",
   "execution_count": null,
   "id": "indoor-ethiopia",
   "metadata": {
    "tags": []
   },
   "outputs": [],
   "source": [
    "# Example: How high is the GC content?\n",
    "GC_content = 0.61\n",
    "    \n",
    "if GC_content < 0.4:\n",
    "    print(\"Low GC content\")\n",
    "elif GC_content > 0.65:\n",
    "    print(\"High GC content\")\n",
    "else:\n",
    "    print(\"Medium GC content\")"
   ]
  },
  {
   "cell_type": "markdown",
   "id": "incorporate-chick",
   "metadata": {},
   "source": [
    "### While loop"
   ]
  },
  {
   "cell_type": "markdown",
   "id": "separate-gambling",
   "metadata": {},
   "source": [
    "Python supports the `while` statement for conditional looping.  \n",
    "The construct while executes an operation until a condition is satisfied."
   ]
  },
  {
   "cell_type": "code",
   "execution_count": null,
   "id": "italic-teddy",
   "metadata": {
    "tags": []
   },
   "outputs": [],
   "source": [
    "number = 0\n",
    "\n",
    "while number < 5:\n",
    "    print(number)\n",
    "    number += 1  # equal to number = number + 1"
   ]
  },
  {
   "cell_type": "code",
   "execution_count": null,
   "id": "indie-pattern",
   "metadata": {
    "tags": []
   },
   "outputs": [],
   "source": [
    "print(number)"
   ]
  },
  {
   "cell_type": "markdown",
   "id": "technological-melbourne",
   "metadata": {},
   "source": [
    "<div class=\"alert alert-danger\" role=\"alert\">\n",
    "    <strong>WARNING</strong>: with a bad <code>while</code> construct you could end up with a <strong>never ending loop</strong>\n",
    "</div>"
   ]
  },
  {
   "cell_type": "markdown",
   "id": "interim-renewal",
   "metadata": {},
   "source": [
    "### For loop"
   ]
  },
  {
   "cell_type": "markdown",
   "id": "celtic-pizza",
   "metadata": {},
   "source": [
    "Python also supports the `for` statement for sequencial looping.  \n",
    "The construct `for` executes an operation for **all the members of a list** (or string, etc.)."
   ]
  },
  {
   "cell_type": "code",
   "execution_count": null,
   "id": "checked-friendly",
   "metadata": {
    "tags": []
   },
   "outputs": [],
   "source": [
    "# Loops over a list of numbers\n",
    "numbers = [0, 1, 2]\n",
    "\n",
    "for i in numbers:\n",
    "    print(i)"
   ]
  },
  {
   "cell_type": "code",
   "execution_count": null,
   "id": "biological-fight",
   "metadata": {
    "tags": []
   },
   "outputs": [],
   "source": [
    "# Loops over a string\n",
    "sequence = 'ATG'\n",
    "\n",
    "for i in sequence:\n",
    "    print(i)"
   ]
  },
  {
   "cell_type": "markdown",
   "id": "classified-cattle",
   "metadata": {},
   "source": [
    "### Exercise"
   ]
  },
  {
   "cell_type": "markdown",
   "id": "cardiac-norman",
   "metadata": {},
   "source": [
    "Try to write a code than calculate the **reverse-complement** of the DNA sequence `\"CGACAAGGATTAGTAGTTTAC\"`.\n",
    "\n",
    "Tips:\n",
    "\n",
    "* Assign the sequence to a variable\n",
    "* Create a dictionary where every nucleotide is linked to its complementary base\n",
    "* Create a list with the characters of the sequence\n",
    "* Reverse the list\n",
    "* For each nucleotide recover its complementary base using a `for` loop\n",
    "* Create an empy list and append the complementary bases\n",
    "* Create a string by concatenating together the elements of the list with the **join** command\n",
    "\n",
    "\n",
    "[![button](../figures/button_solution_small.png)](solutions.ipynb#Flow-Control)"
   ]
  }
 ],
 "metadata": {
  "kernelspec": {
   "display_name": "Python 3 (ipykernel)",
   "language": "python",
   "name": "python3"
  },
  "language_info": {
   "codemirror_mode": {
    "name": "ipython",
    "version": 3
   },
   "file_extension": ".py",
   "mimetype": "text/x-python",
   "name": "python",
   "nbconvert_exporter": "python",
   "pygments_lexer": "ipython3",
   "version": "3.12.9"
  }
 },
 "nbformat": 4,
 "nbformat_minor": 5
}
