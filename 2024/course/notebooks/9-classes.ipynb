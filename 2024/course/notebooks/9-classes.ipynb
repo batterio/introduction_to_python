{
 "cells": [
  {
   "cell_type": "markdown",
   "metadata": {},
   "source": [
    "# Classes"
   ]
  },
  {
   "cell_type": "markdown",
   "metadata": {},
   "source": [
    "Classes are Python's main object-oriented programming tool. They support multiple instances, attribute inheritance, and operator overloading. You can think of a class as a blueprint. It isn't something in itself, it simply describes how to make something. You can create lots of objects from that blueprint - known technically as an instance. Classes are defined by the instruction `class`."
   ]
  },
  {
   "cell_type": "markdown",
   "metadata": {},
   "source": [
    "The name of the class should follow the `UpperCaseCamelCase` convention  \n",
    "Variables in classes are called `attributes`  \n",
    "Functions are calles `methods`"
   ]
  },
  {
   "cell_type": "markdown",
   "metadata": {},
   "source": [
    "### Class definition"
   ]
  },
  {
   "cell_type": "code",
   "execution_count": null,
   "metadata": {
    "tags": []
   },
   "outputs": [],
   "source": [
    "class Animal:\n",
    "    \n",
    "    def __init__(self, name, species, age):\n",
    "        self.name = name\n",
    "        self.species = species\n",
    "        self.age = age"
   ]
  },
  {
   "cell_type": "code",
   "execution_count": null,
   "metadata": {
    "tags": []
   },
   "outputs": [],
   "source": [
    "fufy = Animal('Fufy', 'rabbit', 1)"
   ]
  },
  {
   "cell_type": "code",
   "execution_count": null,
   "metadata": {
    "tags": []
   },
   "outputs": [],
   "source": [
    "fufy.age"
   ]
  },
  {
   "cell_type": "code",
   "execution_count": null,
   "metadata": {
    "tags": []
   },
   "outputs": [],
   "source": [
    "fufy.species"
   ]
  },
  {
   "cell_type": "code",
   "execution_count": null,
   "metadata": {
    "tags": []
   },
   "outputs": [],
   "source": [
    "ted = Animal('Teddy', 'dog', 3)"
   ]
  },
  {
   "cell_type": "code",
   "execution_count": null,
   "metadata": {
    "tags": []
   },
   "outputs": [],
   "source": [
    "garfield = Animal('Garfield', 'cat', 7)"
   ]
  },
  {
   "cell_type": "markdown",
   "metadata": {},
   "source": [
    "### Add methods to a class"
   ]
  },
  {
   "cell_type": "code",
   "execution_count": null,
   "metadata": {
    "tags": []
   },
   "outputs": [],
   "source": [
    "class Animal:\n",
    "    \n",
    "    def __init__(self, name, species, age, message):\n",
    "        self.name = name\n",
    "        self.species = species\n",
    "        self.age = age\n",
    "        self.message = message\n",
    "        \n",
    "    def say_something(self):\n",
    "        \"\"\"Print a message\"\"\"\n",
    "        print(self.message)"
   ]
  },
  {
   "cell_type": "code",
   "execution_count": null,
   "metadata": {
    "tags": []
   },
   "outputs": [],
   "source": [
    "ted = Animal('Teddy', 'dog', 3, 'Give me some treats!')"
   ]
  },
  {
   "cell_type": "code",
   "execution_count": null,
   "metadata": {
    "tags": []
   },
   "outputs": [],
   "source": [
    "garfield = Animal('Garfield', 'cat', 7, 'Give me lasagna!')"
   ]
  },
  {
   "cell_type": "code",
   "execution_count": null,
   "metadata": {
    "tags": []
   },
   "outputs": [],
   "source": [
    "ted.say_something()"
   ]
  },
  {
   "cell_type": "code",
   "execution_count": null,
   "metadata": {
    "tags": []
   },
   "outputs": [],
   "source": [
    "garfield.say_something()"
   ]
  },
  {
   "cell_type": "markdown",
   "metadata": {},
   "source": [
    "### Inheritance"
   ]
  },
  {
   "cell_type": "code",
   "execution_count": null,
   "metadata": {
    "tags": []
   },
   "outputs": [],
   "source": [
    "class Dog(Animal):\n",
    "\n",
    "    def __init__(self, name, species, age):\n",
    "        super()\n",
    "\n",
    "    def speak(self):\n",
    "        \"\"\"Language of the animal\"\"\"\n",
    "        print('Woof woof!')"
   ]
  },
  {
   "cell_type": "code",
   "execution_count": null,
   "metadata": {
    "tags": []
   },
   "outputs": [],
   "source": [
    "class Cat(Animal):\n",
    "\n",
    "    def __init__(self, name, species, age):\n",
    "        super()\n",
    "\n",
    "    def speak(self):\n",
    "        \"\"\"Language of the animal\"\"\"\n",
    "        print('Meow meow!')"
   ]
  },
  {
   "cell_type": "code",
   "execution_count": null,
   "metadata": {
    "tags": []
   },
   "outputs": [],
   "source": [
    "ted = Dog('Teddy', 'dog', 3)"
   ]
  },
  {
   "cell_type": "code",
   "execution_count": null,
   "metadata": {
    "tags": []
   },
   "outputs": [],
   "source": [
    "ted.speak()"
   ]
  },
  {
   "cell_type": "code",
   "execution_count": null,
   "metadata": {
    "tags": []
   },
   "outputs": [],
   "source": [
    "garfield = Cat('Garfield', 'cat', 7)"
   ]
  },
  {
   "cell_type": "code",
   "execution_count": null,
   "metadata": {
    "tags": []
   },
   "outputs": [],
   "source": [
    "garfield.speak()"
   ]
  },
  {
   "cell_type": "markdown",
   "metadata": {},
   "source": [
    "### Exercise"
   ]
  },
  {
   "cell_type": "markdown",
   "metadata": {},
   "source": [
    "Write a class `Person` with the following `attributes`:\n",
    "* **name**: name of the person (for instance 'Kate')\n",
    "* **surname**: surname of te person (for instance 'Parson')\n",
    "* **year_of_birth**: year this person was born (for instance 1984)\n",
    "    \n",
    "and the following `method`:\n",
    "* **age**: function that calculates how old is this person\n",
    "\n",
    "[![button](../figures/button_solution_small.png)](solutions.ipynb#Classes)"
   ]
  },
  {
   "cell_type": "markdown",
   "metadata": {},
   "source": [
    "### Exercise"
   ]
  },
  {
   "cell_type": "markdown",
   "metadata": {},
   "source": [
    "Try to organize these `functions` in a class called `DNA`  \n",
    "  \n",
    "  \n",
    "```\n",
    "def calculate_GC_content(sequence):\n",
    "    \"\"\"Calculates the GC content of a DNA sequence\"\"\"\n",
    "    \n",
    "    gc = (sequence.upper().count('G') + sequence.upper().count('C'))\n",
    "    return gc / len(sequence)\n",
    "\n",
    "\n",
    "def reverse(sequence):\n",
    "    \"\"\"Inverts the order of the bases in a DNA sequence\"\"\"\n",
    "    \n",
    "    seq = list(sequence)\n",
    "    seq.reverse()\n",
    "    return ''.join(seq)\n",
    "\n",
    "\n",
    "def complement(sequence):\n",
    "    \"\"\"Substitutes each nucleotide of a sequence with its complement\"\"\"\n",
    "    \n",
    "    bases = {'A': \"T\", \"T\": \"A\", \"C\": \"G\", \"G\": \"C\", \"N\": \"N\"}\n",
    "    return ''.join([bases[b.upper()] for b in sequence])\n",
    "\n",
    "\n",
    "def reverse_complement(sequence):\n",
    "    \"\"\"Makes the reverse complement of a sequence of DNA\"\"\"\n",
    "    \n",
    "    return complement(reverse(sequence))\n",
    "```  \n",
    "\n",
    "[![button](../figures/button_solution_small.png)](solutions.ipynb#Exercise-2)"
   ]
  }
 ],
 "metadata": {
  "kernelspec": {
   "display_name": "Python 3 (ipykernel)",
   "language": "python",
   "name": "python3"
  },
  "language_info": {
   "codemirror_mode": {
    "name": "ipython",
    "version": 3
   },
   "file_extension": ".py",
   "mimetype": "text/x-python",
   "name": "python",
   "nbconvert_exporter": "python",
   "pygments_lexer": "ipython3",
   "version": "3.11.7"
  }
 },
 "nbformat": 4,
 "nbformat_minor": 4
}
